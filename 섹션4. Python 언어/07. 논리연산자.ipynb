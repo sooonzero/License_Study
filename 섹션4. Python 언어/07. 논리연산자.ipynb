{
 "cells": [
  {
   "cell_type": "markdown",
   "metadata": {},
   "source": [
    "## 파이썬의 논리연산자"
   ]
  },
  {
   "cell_type": "markdown",
   "metadata": {},
   "source": [
    "- 파이썬에서도 논리 연산자가 있습니다.\n",
    "\n",
    "- 파이썬에서는 `&&`, `||`, `!`(Not) 기호를 쓰지 않고 보기 쉽게 `and`, `or`, `not` 영어 단어로 사용합니다."
   ]
  },
  {
   "cell_type": "markdown",
   "metadata": {},
   "source": [
    "### and 연산자\n",
    "- 두 조건이 모두 참일 때만 참을 반환합니다."
   ]
  },
  {
   "cell_type": "code",
   "execution_count": 1,
   "metadata": {},
   "outputs": [
    {
     "name": "stdout",
     "output_type": "stream",
     "text": [
      "적어도 하나는 거짓입니다\n"
     ]
    }
   ],
   "source": [
    "a = True\n",
    "b = False\n",
    "\n",
    "if a and b:\n",
    "    print(\"둘 다 참입니다\")\n",
    "else:\n",
    "    print(\"적어도 하나는 거짓입니다\")"
   ]
  },
  {
   "cell_type": "markdown",
   "metadata": {},
   "source": [
    "### or 연산자\n",
    "- 두 조건 중에 하나라도 참이면 참을 반환합니다."
   ]
  },
  {
   "cell_type": "code",
   "execution_count": 2,
   "metadata": {},
   "outputs": [
    {
     "name": "stdout",
     "output_type": "stream",
     "text": [
      "적어도 하나는 참입니다\n"
     ]
    }
   ],
   "source": [
    "a = True\n",
    "b = False\n",
    "\n",
    "if a or b:\n",
    "    print(\"적어도 하나는 참입니다\")\n",
    "else:\n",
    "    print(\"둘 다 거짓입니다\")"
   ]
  },
  {
   "cell_type": "markdown",
   "metadata": {},
   "source": [
    "### not 연산자\n",
    "- 조건에서 참/거짓을 반전시킵니다. 참인 경우 거짓으로, 거짓인 경우 참을 반환합니다."
   ]
  },
  {
   "cell_type": "code",
   "execution_count": 4,
   "metadata": {},
   "outputs": [
    {
     "name": "stdout",
     "output_type": "stream",
     "text": [
      "a는 참입니다\n"
     ]
    }
   ],
   "source": [
    "a = True\n",
    "\n",
    "if not a:\n",
    "    print(\"a는 거짓입니다\")\n",
    "else:\n",
    "    print(\"a는 참입니다\")"
   ]
  },
  {
   "cell_type": "code",
   "execution_count": null,
   "metadata": {},
   "outputs": [],
   "source": []
  },
  {
   "cell_type": "code",
   "execution_count": null,
   "metadata": {},
   "outputs": [],
   "source": []
  },
  {
   "cell_type": "code",
   "execution_count": null,
   "metadata": {},
   "outputs": [],
   "source": []
  }
 ],
 "metadata": {
  "kernelspec": {
   "display_name": "Python 3",
   "language": "python",
   "name": "python3"
  },
  "language_info": {
   "codemirror_mode": {
    "name": "ipython",
    "version": 3
   },
   "file_extension": ".py",
   "mimetype": "text/x-python",
   "name": "python",
   "nbconvert_exporter": "python",
   "pygments_lexer": "ipython3",
   "version": "3.12.4"
  }
 },
 "nbformat": 4,
 "nbformat_minor": 2
}
