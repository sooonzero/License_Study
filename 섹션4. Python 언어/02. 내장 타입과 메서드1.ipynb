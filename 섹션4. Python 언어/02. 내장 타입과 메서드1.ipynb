{
 "cells": [
  {
   "cell_type": "markdown",
   "metadata": {},
   "source": [
    "## 02. 내장 타입과 메서드 1"
   ]
  },
  {
   "cell_type": "markdown",
   "metadata": {},
   "source": [
    "### Python 자료형"
   ]
  },
  {
   "cell_type": "markdown",
   "metadata": {},
   "source": [
    "**[파이썬이 인식하는 데이터 형태는?]**\n",
    "\n",
    "`int`, `float`, `bool`, `str`, `list`, `dict`, `set`, `tuple`"
   ]
  },
  {
   "cell_type": "markdown",
   "metadata": {},
   "source": [
    "### 숫자형"
   ]
  },
  {
   "cell_type": "markdown",
   "metadata": {},
   "source": [
    "**[정수형]**\n",
    "\n",
    "`bit_length()` 정수를 2진수로 나타내기 위해 필요한 비트수를 반환합니다.\n",
    "\n",
    "`to_bytes(length, byteorder)` 정수를 바이트 객체로 변환합니다.\n",
    "\n",
    "`from_bytes(bytes,byteorder)` 바이트 객체를 정수로 변환합니다."
   ]
  },
  {
   "cell_type": "markdown",
   "metadata": {},
   "source": [
    "**[소수형]**\n",
    "\n",
    "`as_integer_ratio()` float를 두 정수의 비율로 표기\n",
    "\n",
    "`is_integer()` float가 정수인지 확인합니다.\n",
    "\n",
    "`hex()` float를 16진수 문자열로 변환합니다.\n",
    "\n",
    "`fromhex(s)` 16진수 문자열을 float로 변환합니다."
   ]
  },
  {
   "cell_type": "markdown",
   "metadata": {},
   "source": [
    "### 참/거짓형(Bool)"
   ]
  },
  {
   "cell_type": "markdown",
   "metadata": {},
   "source": [
    "\n",
    "\n",
    "- Bool 형태를 숫자로 바꾸면 True: 1, Flase: 0\n",
    "\n",
    "- Bool 형태에서 산술 연산도 가능하다."
   ]
  },
  {
   "cell_type": "markdown",
   "metadata": {},
   "source": [
    "### 문자형태"
   ]
  },
  {
   "cell_type": "markdown",
   "metadata": {},
   "source": [
    "`lower()` 문자열을 소문자로 변환합니다.\n",
    "\n",
    "`upper()` 문자열을 대문자로 변환합니다.\n",
    "\n",
    "`split('기준문자')` 기준 문자로 문자열을 쪼개서 배열로 만듬\n",
    "\n",
    "`기준문자.join` 기준 문자로배열을 문자로 만듬\n",
    "\n",
    "`.replace('첫번째', '두번째')` 첫번째 문자를 두번째 문자로 바꿔서 반환해줍니다.\n",
    "\n",
    "`find(sub)` 부분 문자열 sub가 처음 나타나는 위치를 찾습니다.\n",
    "\n",
    "- sub가 존재하지 않는 경우 -1 을 반환\n",
    "\n",
    "`index(sub)` 위와 같음. 문자가 존재하지 않는 경우 에러를 발생\n",
    "\n",
    "`capitalize()` 문자열의 첫 글자를 대문자로 변환합니다.\n",
    "\n",
    "`casefold()` 문자열을 소문자로 변환합니다.\n",
    "\n",
    "`count(sub, start = 0, end = None)` 부분 문자열이 문자열에서 등장하는 횟수를 셉니다,\n",
    "\n",
    "`endswitch(suffix, start = 0, end = None)` 문자열이 지정된 접미사로 끝나는지 확인합니다.\n",
    "\n",
    "`isdigit()` 문자열이 숫자로만 이루어져 있는지 확인합니다.\n",
    "\n",
    "`lstrip(chart=None)` 문자열의 왼쪽 끝에서 지정된 문자를 제거합니다.\n",
    "\n",
    "`partition(sep)` 문자열을 지정된 구분자를 기준으로 세 부분으로 나눕니다.\n",
    "\n",
    "`swapcase()` 문자열의 대문자를 소문자로, 소문자를 대문자로 변환합니다.\n",
    "\n",
    "`splitlines(keepends=False)` 줄바꿈을 기준으로 문자열을 분할하여 리스트로 반환합니다.\n",
    "\n",
    "`startswitch(prefix, start = 0, end = None)` 문자열이 지정된 접두사로 시작하는지 확인합니다.\n",
    "\n",
    "`title()` 문자열을 제목 형식으로 변환합니다.\n",
    "\n",
    "`zfill(width)` 문자열의 길이가 'width'에 도달할 때까지 왼쪽을 0으로 채웁니다."
   ]
  },
  {
   "cell_type": "markdown",
   "metadata": {
    "vscode": {
     "languageId": "plaintext"
    }
   },
   "source": [
    "### 리스트형"
   ]
  },
  {
   "cell_type": "markdown",
   "metadata": {},
   "source": [
    "`append()` 뒤에 값을 추가한다.\n",
    "\n",
    "`extend()` 리스트에 리스트를 추가(확장)한다.\n",
    "\n",
    "`insert()` 지정된 위치에 값을 추가한다.\n",
    "\n",
    "`remove()` 값을 없앤다.\n",
    "\n",
    "`pop()` 가장 뒤에 있는 값을 없앤다.\n",
    "\n",
    "`clear()` 리스트를 초기화 한다.\n",
    "\n",
    "`index()` 인덱스 번호를 출력한다.\n",
    "\n",
    "`count()` 값이 몇 개 있는지 센다.\n",
    "\n",
    "`sort()` 리스트를 정렬한다.(기본은 오름차순)\n",
    "\n",
    "`reverse()` 리스트를 거꾸로 배치한다.\n",
    "\n",
    "`copy()` 리스트를 복제한다."
   ]
  },
  {
   "cell_type": "markdown",
   "metadata": {},
   "source": [
    "### 정리"
   ]
  },
  {
   "cell_type": "markdown",
   "metadata": {},
   "source": [
    "- 파이썬은 변수에 값이 들어가면 타입이 정해진다.\n",
    "\n",
    "- 해당 타입이 정해지자마자 사용할 수 있는 기능들이 있다.\n",
    "\n",
    "- 오늘 배운 타입은 int, float, bool, str, list\n",
    "\n",
    "- 메서드가 각 타입별로 너무나도 많아서 하나씩 훑어보는 것이 좋다.\n",
    "\n",
    "- 문자열 관련 메서드는 많기에 더 찾아보면 좋다."
   ]
  },
  {
   "cell_type": "markdown",
   "metadata": {},
   "source": []
  },
  {
   "cell_type": "markdown",
   "metadata": {},
   "source": []
  },
  {
   "cell_type": "markdown",
   "metadata": {},
   "source": []
  },
  {
   "cell_type": "markdown",
   "metadata": {},
   "source": []
  }
 ],
 "metadata": {
  "language_info": {
   "name": "python"
  }
 },
 "nbformat": 4,
 "nbformat_minor": 2
}
