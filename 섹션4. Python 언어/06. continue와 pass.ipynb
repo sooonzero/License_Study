{
 "cells": [
  {
   "cell_type": "markdown",
   "metadata": {},
   "source": [
    "## 06. continue와 pass"
   ]
  },
  {
   "cell_type": "markdown",
   "metadata": {},
   "source": [
    "`continue`: 루프 안에서 continue가 실행되면, 현재 반복을 건너뛰고 다음 반복을 시작합니다.\n",
    "\n",
    "\n",
    "`pass`: 아무 작업도 수행하지 않고 넘어갑니다. \n",
    "\n",
    "> ex) 코드 블록이 필요한데 나중에 작성하려는 경우 사용할 수 있습니다. (아무 일도 생기지 않고 그냥 넘어갑니다.)"
   ]
  },
  {
   "cell_type": "markdown",
   "metadata": {},
   "source": [
    "### continue 예제"
   ]
  },
  {
   "cell_type": "code",
   "execution_count": 1,
   "metadata": {},
   "outputs": [
    {
     "name": "stdout",
     "output_type": "stream",
     "text": [
      "1\n",
      "3\n",
      "5\n",
      "7\n",
      "9\n"
     ]
    }
   ],
   "source": [
    "# Python으로 홀수를 출력하기 (짝수일 경우에는 다음 반복으로 넘어가기)\n",
    "for i in range(10):\n",
    "    if i % 2 == 0:\n",
    "        continue\n",
    "    print(i)"
   ]
  },
  {
   "cell_type": "code",
   "execution_count": 2,
   "metadata": {},
   "outputs": [
    {
     "name": "stdout",
     "output_type": "stream",
     "text": [
      "Alice\n",
      "Bob\n",
      "David\n"
     ]
    }
   ],
   "source": [
    "# 특정 조건 건너뛰기 (이름이 찰리일 때 다음 반복으로 넘어가기)\n",
    "names = [\"Alice\", \"Bob\", \"Charlie\", \"David\"]\n",
    "for name in names:\n",
    "    if name == \"Charlie\":\n",
    "        continue # 이름이 찰리일 때 그냥 넘어가고, 다음 루프를 시작\n",
    "    print(name)"
   ]
  },
  {
   "cell_type": "code",
   "execution_count": 3,
   "metadata": {},
   "outputs": [
    {
     "name": "stdout",
     "output_type": "stream",
     "text": [
      "1\n",
      "2\n",
      "4\n",
      "5\n"
     ]
    }
   ],
   "source": [
    "# 리스트 요소 처리 중 건너뛰기 (음수일 때 넘어가기)\n",
    "numbers = [1, 2, -1, 4, -3, 5]\n",
    "for num in numbers:\n",
    "    if num < 0:\n",
    "        continue\n",
    "    print(num)"
   ]
  },
  {
   "cell_type": "markdown",
   "metadata": {},
   "source": [
    "### pass 예제"
   ]
  },
  {
   "cell_type": "code",
   "execution_count": 4,
   "metadata": {},
   "outputs": [],
   "source": [
    "# 함수를 정의해놓고, 사용은 안하겠다.\n",
    "def my_function():\n",
    "    pass\n",
    "\n",
    "# 나중에 구현할 함수를 미리 정의해둠"
   ]
  },
  {
   "cell_type": "code",
   "execution_count": 6,
   "metadata": {},
   "outputs": [
    {
     "name": "stdout",
     "output_type": "stream",
     "text": [
      "0\n",
      "1\n",
      "2\n",
      "4\n"
     ]
    }
   ],
   "source": [
    "# i가 3일 때 아무것도 안해라. (3은 출력되지 않습니다.)\n",
    "for i in range(5):\n",
    "    if i == 3:\n",
    "        pass  # 나중에 추가할 로직을 위해 자리 표시자\n",
    "    else:\n",
    "        print(i)\n",
    "        \n",
    "# pass는 단순히 다음으로 넘어감"
   ]
  },
  {
   "cell_type": "markdown",
   "metadata": {},
   "source": []
  },
  {
   "cell_type": "markdown",
   "metadata": {},
   "source": []
  },
  {
   "cell_type": "code",
   "execution_count": null,
   "metadata": {},
   "outputs": [],
   "source": []
  }
 ],
 "metadata": {
  "kernelspec": {
   "display_name": "Python 3",
   "language": "python",
   "name": "python3"
  },
  "language_info": {
   "codemirror_mode": {
    "name": "ipython",
    "version": 3
   },
   "file_extension": ".py",
   "mimetype": "text/x-python",
   "name": "python",
   "nbconvert_exporter": "python",
   "pygments_lexer": "ipython3",
   "version": "3.12.4"
  }
 },
 "nbformat": 4,
 "nbformat_minor": 2
}
