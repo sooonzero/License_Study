{
 "cells": [
  {
   "cell_type": "markdown",
   "metadata": {},
   "source": [
    "## 02. 내장 타입과 메서드 2"
   ]
  },
  {
   "cell_type": "markdown",
   "metadata": {},
   "source": [
    "### Python 자료형\n"
   ]
  },
  {
   "cell_type": "markdown",
   "metadata": {},
   "source": [
    "**[3가지 타입]**\n",
    "\n",
    "`dict` 사전형태, 키:값 한 쌍, 키를 통해 값 접근\n",
    "\n",
    "`set` 집합, 순서가 없음, 중복이 안됨\n",
    "\n",
    "`tuple` 불변의 묶음, 항목을 바꿀 수 없음, 한개짜리도 만들 수 있음"
   ]
  },
  {
   "cell_type": "markdown",
   "metadata": {},
   "source": [
    "### 사전형(Dictionary)\n"
   ]
  },
  {
   "cell_type": "code",
   "execution_count": 6,
   "metadata": {},
   "outputs": [
    {
     "name": "stdout",
     "output_type": "stream",
     "text": [
      "WeekendCode\n",
      "{'name': 'WeekendCode', 'age': 30, 'city': 'Seoul'}\n",
      "{'name': 'WeekendCode', 'age': 31, 'city': 'Seoul', 'job': 'Engineer'}\n",
      "{'name': 'WeekendCode', 'age': 31, 'job': 'Engineer'}\n"
     ]
    }
   ],
   "source": [
    "# Dictionary 선언\n",
    "my_dict = {\n",
    "    \"name\": \"WeekendCode\",\n",
    "    \"age\": 30,\n",
    "    \"city\": \"Seoul\"\n",
    "}\n",
    "\n",
    "# 특정 키의 값 접근\n",
    "print(my_dict[\"name\"])\n",
    "print(my_dict)\n",
    "\n",
    "# 키-값 쌍 추가 또는 수정\n",
    "my_dict[\"age\"] = 31\n",
    "my_dict[\"job\"] =\"Engineer\"\n",
    "print(my_dict)\n",
    "\n",
    "# 키-값 쌍 삭제\n",
    "del my_dict[\"city\"]\n",
    "print(my_dict)"
   ]
  },
  {
   "cell_type": "markdown",
   "metadata": {},
   "source": [
    "\n",
    "- 키-값 쌍으로 이루어진 데이터 구조\n",
    "\n",
    "- 키는 고유해야 하며, 변경 불가능한 데이터 타입이어야 함\n",
    "    - ex) 문자열, 숫자, 튜플\n",
    "\n",
    "- 값은 변경 가능하며, 어떠한 데이터 타입도 될 수 있음\n",
    "\n",
    "- 값에 접근하려면, 변수명[\"키값\"]으로 접근해야 값을 얻을 수 있다."
   ]
  },
  {
   "cell_type": "markdown",
   "metadata": {},
   "source": [
    "### 사전형(Dictonary) 메서드"
   ]
  },
  {
   "cell_type": "markdown",
   "metadata": {},
   "source": [
    "`keys()` key만 반환된다.\n",
    "\n",
    "`values()` value만 반환된다.\n",
    "\n",
    "`items()` 키와 값이 괄호에 쌍으로 반환된다.\n",
    "\n",
    "`get()` 키에 대응하는 값이 반환된다.\n",
    "\n",
    "`update()` 새로운 값을 할당한다.\n",
    "\n",
    "`pop()` 빼면서 값을 리턴해준다."
   ]
  },
  {
   "cell_type": "markdown",
   "metadata": {},
   "source": [
    "### 집합형(set)"
   ]
  },
  {
   "cell_type": "code",
   "execution_count": 9,
   "metadata": {},
   "outputs": [
    {
     "name": "stdout",
     "output_type": "stream",
     "text": [
      "{1, 2, 3, 4, 5, 6}\n",
      "{1, 2, 4, 5, 6}\n",
      "{1, 2, 4, 5, 6, 7}\n",
      "{4, 5, 6}\n"
     ]
    }
   ],
   "source": [
    "# Set 선언\n",
    "my_set = {1,2,3,4,5}\n",
    "\n",
    "#값 추가\n",
    "my_set.add(6)\n",
    "print(my_set)\n",
    "\n",
    "#값 삭제\n",
    "my_set.remove(3)\n",
    "print(my_set)\n",
    "\n",
    "#다른 집합과의 연산 (합집합, 교집합 등)\n",
    "another_set = {4,5,6,7}\n",
    "union_set = my_set|another_set # 합집합\n",
    "intersection_set = my_set&another_set # 교집합\n",
    "\n",
    "print(union_set)\n",
    "print(intersection_set)"
   ]
  },
  {
   "cell_type": "markdown",
   "metadata": {},
   "source": [
    "- 고유한 값들의 집합이다.\n",
    "\n",
    "- 순서가 없으며, 중복된 값을 허용하지 않는다.\n",
    "\n",
    "- 변경 가능하다.\n",
    "\n",
    "- 순서가 없기 때문에 인덱스로 접근할 수 없다.\n",
    "\n",
    "- 중복값을 아무리 넣어도, 출력하면 고유한 값만 나온다."
   ]
  },
  {
   "cell_type": "markdown",
   "metadata": {},
   "source": [
    "### 집합형(Set) 메서드\n",
    "\n",
    "`add()` 집합에 요소를 더하기\n",
    "\n",
    "`remove()` 집합에 요소를 삭제하기\n",
    "\n",
    "`discard()` 집합에 요소를 삭제하기, 요소가 없어도 오류 발생하지 않는다.\n",
    "\n",
    "`union()` 합집합\n",
    "\n",
    "`intersection()` 교집합\n",
    "\n",
    "`difference()` 차집합\n",
    "\n",
    "`clear()` 비우기"
   ]
  },
  {
   "cell_type": "markdown",
   "metadata": {},
   "source": [
    "### 튜플형(Tuple)"
   ]
  },
  {
   "cell_type": "code",
   "execution_count": 10,
   "metadata": {},
   "outputs": [
    {
     "name": "stdout",
     "output_type": "stream",
     "text": [
      "(1, 2, 3, 4, 5)\n",
      "(1,)\n",
      "1\n",
      "(1, 2, 3)\n"
     ]
    }
   ],
   "source": [
    "my_tuple = (1,2,3,4,5)\n",
    "\n",
    "# Tuple 선언(원소 하나일 때)\n",
    "single_element_tuple = (1,) # 쉼표가 필요함\\\n",
    "\n",
    "# Tuple 출력\n",
    "print(my_tuple)\n",
    "print(single_element_tuple)\n",
    "\n",
    "# 특정 원소 접근\n",
    "print(my_tuple[0])\n",
    "\n",
    "# 여러 개의 원소를 가지는 튜플\n",
    "multi_element_tuple = (1, 2, 3)\n",
    "\n",
    "print(multi_element_tuple)"
   ]
  },
  {
   "cell_type": "markdown",
   "metadata": {},
   "source": [
    "- 순서가 있는 데이터 구조\n",
    "\n",
    "- 변경 불가능함(immutable)\n",
    "\n",
    "- 중복된 값ㅇ르 허용함\n",
    "\n",
    "- 앞의 두 개의 타입과 달리 타입을 선언할 때 ()소괄호를 사용한다.\n",
    "\n",
    "- 1개의 요소짜리 튜플도 만들 수 있는데 값 뒤에 쉼표가 붙지 않으면 튜플로 인식하지 않는다."
   ]
  },
  {
   "cell_type": "markdown",
   "metadata": {},
   "source": [
    "### 튜플형(Tuple) 메서드"
   ]
  },
  {
   "cell_type": "code",
   "execution_count": 11,
   "metadata": {},
   "outputs": [
    {
     "name": "stdout",
     "output_type": "stream",
     "text": [
      "2\n",
      "3\n"
     ]
    }
   ],
   "source": [
    "# Tuple 선언\n",
    "my_tuple = (1,2,3,4,3,4,5)\n",
    "\n",
    "# count() 메서드\n",
    "count_of_3 = my_tuple.count(3)\n",
    "print(count_of_3)\n",
    "\n",
    "# index() 메서드\n",
    "index_of_4 = my_tuple.index(4)\n",
    "print(index_of_4)"
   ]
  },
  {
   "cell_type": "markdown",
   "metadata": {},
   "source": [
    "- 튜플은 변경 불가능한 특성 때문에 메서드가 많지 않다."
   ]
  },
  {
   "cell_type": "markdown",
   "metadata": {},
   "source": [
    "### dict, set, tuple 요약"
   ]
  },
  {
   "cell_type": "markdown",
   "metadata": {},
   "source": [
    "- dict: 키와 값으로 하나의 값을 저장한다. 변경도 가능하다.\n",
    "\n",
    "- set: 중복을 허용하지 않는다. 순서도 없다(인덱스로 접근불가), 집합 연산 지원한다.\n",
    "\n",
    "- tuple: 한 번 정의되면 값을 바꿀 수가 없다. 순서는 있다.\n",
    "\n",
    ">모두 다양한 형태의 데이터는 넣을 수 있다."
   ]
  }
 ],
 "metadata": {
  "kernelspec": {
   "display_name": "Python 3",
   "language": "python",
   "name": "python3"
  },
  "language_info": {
   "codemirror_mode": {
    "name": "ipython",
    "version": 3
   },
   "file_extension": ".py",
   "mimetype": "text/x-python",
   "name": "python",
   "nbconvert_exporter": "python",
   "pygments_lexer": "ipython3",
   "version": "3.12.4"
  }
 },
 "nbformat": 4,
 "nbformat_minor": 2
}
