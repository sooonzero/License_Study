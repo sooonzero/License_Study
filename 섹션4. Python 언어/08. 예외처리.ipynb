{
 "cells": [
  {
   "cell_type": "markdown",
   "metadata": {},
   "source": [
    "## 08.파이썬 예외처리"
   ]
  },
  {
   "cell_type": "markdown",
   "metadata": {},
   "source": [
    "### 예외처리 사용하기"
   ]
  },
  {
   "cell_type": "code",
   "execution_count": 1,
   "metadata": {},
   "outputs": [
    {
     "name": "stdout",
     "output_type": "stream",
     "text": [
      "Caught an exception: 'This is a KeyError'\n"
     ]
    }
   ],
   "source": [
    "try:\n",
    "    raise KeyError(\"This is a KeyError\")\n",
    "except KeyError as e:\n",
    "    print(f\"Caught an exception: {e}\")"
   ]
  },
  {
   "cell_type": "markdown",
   "metadata": {},
   "source": [
    "- 파이썬에서는 예외를 일으키는 방법으로 raise라는 키워드를 사용합니다. (자바는 throw)\n",
    "\n",
    "- 그리고 java와 달리 try, except라는 키워드를 사용합니다."
   ]
  },
  {
   "cell_type": "markdown",
   "metadata": {},
   "source": [
    "### 예외 처리 블록의 역할"
   ]
  },
  {
   "cell_type": "code",
   "execution_count": 2,
   "metadata": {},
   "outputs": [
    {
     "name": "stdout",
     "output_type": "stream",
     "text": [
      "Result is: 5.0\n",
      "Executing finally block\n",
      "Caught an exception: division by zero\n",
      "Executing finally block\n",
      "Caught an exception: unsupported operand type(s) for /: 'int' and 'str'\n",
      "Executing finally block\n"
     ]
    }
   ],
   "source": [
    "def divide(x, y):\n",
    "    try:\n",
    "        result = x / y\n",
    "    except ZeroDivisionError as e:\n",
    "        print(f\"Caught an exception: {e}\")\n",
    "    except TypeError as e:\n",
    "        print(f\"Caught an exception: {e}\")\n",
    "    else:\n",
    "        print(f\"Result is: {result}\")\n",
    "    finally:\n",
    "        print(\"Executing finally block\")\n",
    "\n",
    "# 예외가 발생하지 않는 경우\n",
    "divide(10, 2)\n",
    "\n",
    "# ZeroDivisionError 발생하는 경우\n",
    "divide(10, 0)\n",
    "\n",
    "# TypeError 발생하는 경우\n",
    "divide(10, 'a')"
   ]
  },
  {
   "cell_type": "markdown",
   "metadata": {},
   "source": [
    "1. `try` 예외가 발생할 수 있는 코드를 포함합니다.\n",
    "\n",
    "2. `except` 예외가 발생했을 때 실행할 코드를 포함합니다. 특정 예외 유형을 지정할 수 있습니다.\n",
    "\n",
    "3. `else` 예외가 발생하지 않았을 때 실행할 코드를 포함합니다.\n",
    "\n",
    "4. `finally` 예외 발생 여부와 상관없이 항상 실행할 코드를 포함합니다."
   ]
  },
  {
   "cell_type": "markdown",
   "metadata": {},
   "source": []
  },
  {
   "cell_type": "code",
   "execution_count": null,
   "metadata": {},
   "outputs": [],
   "source": []
  }
 ],
 "metadata": {
  "kernelspec": {
   "display_name": "Python 3",
   "language": "python",
   "name": "python3"
  },
  "language_info": {
   "codemirror_mode": {
    "name": "ipython",
    "version": 3
   },
   "file_extension": ".py",
   "mimetype": "text/x-python",
   "name": "python",
   "nbconvert_exporter": "python",
   "pygments_lexer": "ipython3",
   "version": "3.12.4"
  }
 },
 "nbformat": 4,
 "nbformat_minor": 2
}
