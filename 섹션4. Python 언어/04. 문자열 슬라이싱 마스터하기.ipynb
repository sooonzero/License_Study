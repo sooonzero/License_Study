{
 "cells": [
  {
   "cell_type": "markdown",
   "metadata": {},
   "source": [
    "## 04. 문자열과 슬라이싱"
   ]
  },
  {
   "cell_type": "markdown",
   "metadata": {},
   "source": [
    "### Python에세의 문자열"
   ]
  },
  {
   "cell_type": "markdown",
   "metadata": {},
   "source": [
    "**[문자열 슬라이싱]**\n",
    "\n",
    "```python\n",
    "substring = string[start:end]\n",
    "```\n",
    "\n",
    "- `start` 슬라이스의 시작 인덱스 (포함)\n",
    "\n",
    "- `end` 슬라이스의 끝 인덱스 (미포함)\n"
   ]
  },
  {
   "cell_type": "markdown",
   "metadata": {},
   "source": [
    "- Python에서 문자열 슬라이싱(String Slicing)은 문자열의 특정 부분을 추출하는 기법입니다.\n",
    "\n",
    "- 문장려 인덱스를 사용하여 접근할 수 있으며, 슬라이싱은 콜론(:)을 사용하여 인덱스 범위를 지정합니다.\n"
   ]
  },
  {
   "cell_type": "markdown",
   "metadata": {},
   "source": [
    "### Python에서의 문자열"
   ]
  },
  {
   "cell_type": "code",
   "execution_count": 2,
   "metadata": {},
   "outputs": [
    {
     "name": "stdout",
     "output_type": "stream",
     "text": [
      "Hello\n"
     ]
    }
   ],
   "source": [
    "string = \"Hello, World!\"\n",
    "sliced_variable = string[0:5] #Hello\n",
    "print(sliced_variable)"
   ]
  },
  {
   "cell_type": "markdown",
   "metadata": {},
   "source": [
    "- 인덱스는 0부터 시작합니다.\n",
    "\n",
    "- 두 번째 인덱싱은 포함하지 않습니다.\n",
    "\n",
    "> 0부터 5 직전까지를 출력,\n",
    "> 출력은 인덱스 0인 H부터 인덱스 4인 o까지aks 출력됨 (Hello)"
   ]
  },
  {
   "cell_type": "code",
   "execution_count": 3,
   "metadata": {},
   "outputs": [
    {
     "name": "stdout",
     "output_type": "stream",
     "text": [
      "World!\n"
     ]
    }
   ],
   "source": [
    "substring = string[7:]\n",
    "print(substring)"
   ]
  },
  {
   "cell_type": "markdown",
   "metadata": {},
   "source": [
    "- 비어 있는 것은 끝까지 간다\n",
    "\n",
    "> 앞에 숫자가 있고 뒤가 비어있으면 시작점만 있는 것\n",
    "\n",
    "> 전부 다 비어있다면? \n",
    "> - 시작점 인덳부터 맨 끝까지 문자열을 가져오는 문법"
   ]
  },
  {
   "cell_type": "code",
   "execution_count": 4,
   "metadata": {},
   "outputs": [
    {
     "name": "stdout",
     "output_type": "stream",
     "text": [
      "Hello\n"
     ]
    }
   ],
   "source": [
    "substring2 = string[:5]\n",
    "print(substring2)"
   ]
  },
  {
   "cell_type": "markdown",
   "metadata": {},
   "source": [
    "- 앞 부분이 인덱싱이 비어있으면 처음부터 시작\n"
   ]
  },
  {
   "cell_type": "code",
   "execution_count": 7,
   "metadata": {},
   "outputs": [
    {
     "name": "stdout",
     "output_type": "stream",
     "text": [
      "World\n"
     ]
    }
   ],
   "source": [
    "substring3 = string[-6:-1]\n",
    "print(substring3)"
   ]
  },
  {
   "cell_type": "markdown",
   "metadata": {},
   "source": [
    "- 마이너스 슬라이싱은 뒤에서 부터 시작한다.\n",
    "\n",
    "- 뒤는 0이 없다. -1부터 시작\n",
    "\n",
    "> 6은 !를 포함하여 시작하면 \"W\"에 해당\n",
    "\n",
    "> -1은 !를 뜻하지만, 두번ㅉ ㅐ인덱스는 포함하지 않는다고 배웠음"
   ]
  },
  {
   "cell_type": "markdown",
   "metadata": {},
   "source": [
    "### 간격(step)을 이용해보자"
   ]
  },
  {
   "cell_type": "code",
   "execution_count": 8,
   "metadata": {},
   "outputs": [
    {
     "name": "stdout",
     "output_type": "stream",
     "text": [
      "Hlo ol!\n"
     ]
    }
   ],
   "source": [
    "substring4 = string[::2]\n",
    "print(substring4)"
   ]
  },
  {
   "cell_type": "markdown",
   "metadata": {},
   "source": [
    "- 가장 마지막은 step으로 2단계씩 뛴다는 것\n",
    "\n",
    "- 비어있는 값은 처음부터 끝까지라는 뜻"
   ]
  }
 ],
 "metadata": {
  "kernelspec": {
   "display_name": "Python 3",
   "language": "python",
   "name": "python3"
  },
  "language_info": {
   "codemirror_mode": {
    "name": "ipython",
    "version": 3
   },
   "file_extension": ".py",
   "mimetype": "text/x-python",
   "name": "python",
   "nbconvert_exporter": "python",
   "pygments_lexer": "ipython3",
   "version": "3.12.4"
  }
 },
 "nbformat": 4,
 "nbformat_minor": 2
}
