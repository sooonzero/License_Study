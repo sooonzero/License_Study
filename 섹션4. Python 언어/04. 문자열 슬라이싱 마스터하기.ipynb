{
 "cells": [
  {
   "cell_type": "markdown",
   "metadata": {},
   "source": [
    "## 04. 문자열과 슬라이싱"
   ]
  },
  {
   "cell_type": "markdown",
   "metadata": {},
   "source": [
    "### Python에세의 문자열"
   ]
  },
  {
   "cell_type": "markdown",
   "metadata": {},
   "source": [
    "**[문자열 슬라이싱]**\n",
    "\n",
    "- Python에서 문자열 슬라이싱(String Slicing)은 문자열의 특정 부분을 추출하는 기법입니다.\n",
    "\n",
    "- 문장려 인덱스를 사용하여 접근할 수 있으며, 슬라이싱은 콜론(:)을 사용하여 인덱스 범위를 지정합니다.\n"
   ]
  },
  {
   "cell_type": "markdown",
   "metadata": {},
   "source": []
  },
  {
   "cell_type": "markdown",
   "metadata": {},
   "source": []
  },
  {
   "cell_type": "code",
   "execution_count": null,
   "metadata": {},
   "outputs": [],
   "source": []
  }
 ],
 "metadata": {
  "language_info": {
   "name": "python"
  }
 },
 "nbformat": 4,
 "nbformat_minor": 2
}
