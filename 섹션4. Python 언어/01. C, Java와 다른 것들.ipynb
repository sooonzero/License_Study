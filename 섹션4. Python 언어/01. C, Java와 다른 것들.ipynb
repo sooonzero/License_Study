{
 "cells": [
  {
   "cell_type": "markdown",
   "metadata": {},
   "source": [
    "## C, Java와 다른것들"
   ]
  },
  {
   "cell_type": "markdown",
   "metadata": {},
   "source": [
    "### Python의 특징"
   ]
  },
  {
   "cell_type": "markdown",
   "metadata": {},
   "source": [
    "**[타입 명시하지 않음, 모두가 객체(클래스에서 파생)]**"
   ]
  },
  {
   "cell_type": "code",
   "execution_count": 1,
   "metadata": {},
   "outputs": [
    {
     "name": "stdout",
     "output_type": "stream",
     "text": [
      "10 <class 'int'>\n",
      "Hello, World! <class 'str'>\n"
     ]
    }
   ],
   "source": [
    "# 변수 타입을 명시하지 않음\n",
    "x = 10\n",
    "print(x, type(x)) # 10 <class 'int'>\n",
    "\n",
    "x = \"Hello, World!\"\n",
    "print(x, type(x)) # Hello, World! <class 'str'>"
   ]
  },
  {
   "cell_type": "markdown",
   "metadata": {},
   "source": [
    "\n",
    "- Python은 동적 타이핑 언어로 변수의 타입을 명시하지 않는다.\n",
    "\n",
    "- 모든 것이 객체이며, 클래스의 인스턴스로서 메서드를 가질 수 있다."
   ]
  },
  {
   "cell_type": "markdown",
   "metadata": {},
   "source": [
    "**[입력과 출력이 매우 간단하다.]**"
   ]
  },
  {
   "cell_type": "code",
   "execution_count": 4,
   "metadata": {},
   "outputs": [
    {
     "name": "stdout",
     "output_type": "stream",
     "text": [
      "Hello,이재영!\n",
      "a:  10 b:  20\n"
     ]
    }
   ],
   "source": [
    "# 입력 받기\n",
    "name = input(\"Enter your name: \")\n",
    "print(\"Hello,\" + name + \"!\")\n",
    "\n",
    "# 여러 값 출력\n",
    "a = 10\n",
    "b = 20\n",
    "print(\"a: \",a, \"b: \",b) #a:10 b:20"
   ]
  },
  {
   "cell_type": "markdown",
   "metadata": {},
   "source": [
    "- 입력, 출력을 내장된 함수에 변수만 넣으면 끝!"
   ]
  },
  {
   "cell_type": "markdown",
   "metadata": {},
   "source": [
    "**[각 타입에 메서드나 연산이 간단]**"
   ]
  },
  {
   "cell_type": "code",
   "execution_count": 7,
   "metadata": {},
   "outputs": [
    {
     "name": "stdout",
     "output_type": "stream",
     "text": [
      "15\n",
      "510\n"
     ]
    }
   ],
   "source": [
    "# 숫자와 문자열 타입의 출력과 연산\n",
    "a = 5\n",
    "print(a + 10) #15\n",
    "\n",
    "a = \"5\"\n",
    "print(a + \"10\") # 510"
   ]
  },
  {
   "cell_type": "code",
   "execution_count": 8,
   "metadata": {},
   "outputs": [
    {
     "name": "stdout",
     "output_type": "stream",
     "text": [
      "[1, 2, 3, 4]\n"
     ]
    }
   ],
   "source": [
    "# 리스트와 같은 자료형의 메서드\n",
    "my_list = [1,2,3]\n",
    "my_list.append(4)\n",
    "print(my_list) # [1,2,3,4]"
   ]
  },
  {
   "cell_type": "markdown",
   "metadata": {},
   "source": [
    "### Python에서의 반복문"
   ]
  },
  {
   "cell_type": "code",
   "execution_count": 9,
   "metadata": {},
   "outputs": [
    {
     "name": "stdout",
     "output_type": "stream",
     "text": [
      "apple\n",
      "banana\n",
      "cherry\n"
     ]
    }
   ],
   "source": [
    "#리스트의 각 요소를 반복\n",
    "fruits = [\"apple\", \"banana\", \"cherry\"]\n",
    "for fruit in fruits:\n",
    "    print(fruit)"
   ]
  },
  {
   "cell_type": "code",
   "execution_count": 10,
   "metadata": {},
   "outputs": [
    {
     "name": "stdout",
     "output_type": "stream",
     "text": [
      "0\n",
      "1\n",
      "2\n",
      "3\n",
      "4\n"
     ]
    }
   ],
   "source": [
    "# range를 사용한 반복\n",
    "for i in range(5):\n",
    "    print(i)"
   ]
  },
  {
   "cell_type": "code",
   "execution_count": 11,
   "metadata": {},
   "outputs": [
    {
     "name": "stdout",
     "output_type": "stream",
     "text": [
      "1\n",
      "2\n",
      "3\n",
      "4\n",
      "5\n"
     ]
    }
   ],
   "source": [
    "# 시작점과 끝점을 지정한 range 사용\n",
    "for i in range(1, 6):\n",
    "    print(i)"
   ]
  }
 ],
 "metadata": {
  "kernelspec": {
   "display_name": "Python 3",
   "language": "python",
   "name": "python3"
  },
  "language_info": {
   "codemirror_mode": {
    "name": "ipython",
    "version": 3
   },
   "file_extension": ".py",
   "mimetype": "text/x-python",
   "name": "python",
   "nbconvert_exporter": "python",
   "pygments_lexer": "ipython3",
   "version": "3.12.4"
  }
 },
 "nbformat": 4,
 "nbformat_minor": 2
}
