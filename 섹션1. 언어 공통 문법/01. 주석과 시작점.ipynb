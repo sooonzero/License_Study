{
 "cells": [
  {
   "cell_type": "markdown",
   "metadata": {},
   "source": [
    "# 섹션1. 언어 공통 문법"
   ]
  },
  {
   "cell_type": "markdown",
   "metadata": {},
   "source": [
    "## 01. 주석과 시작점"
   ]
  },
  {
   "cell_type": "markdown",
   "metadata": {},
   "source": [
    "### 코드에서 주석이란?"
   ]
  },
  {
   "cell_type": "markdown",
   "metadata": {},
   "source": [
    "주석은 각 언어에서 프로그램이 \"무시하는 코드 줄\"\n",
    "\n",
    "주석이라고 표기해놓은 코드 부분은 컴퓨터가 해석하지 않는다.\n",
    "\n",
    ">필요한이유: 코드 양이 많아지거나 어려운 코드가 있을 때 사람이 읽을 용도로 메모를 하기 위해서"
   ]
  },
  {
   "cell_type": "markdown",
   "metadata": {},
   "source": [
    "#### C언어와 Java 앞에 // (슬래시 2개)가 붙는다."
   ]
  },
  {
   "cell_type": "markdown",
   "metadata": {
    "vscode": {
     "languageId": "bat"
    }
   },
   "source": [
    "**[C언어]**\n",
    "```c\n",
    "// C에서 이 줄은 해석되지 않습니다.\n",
    "printf(\"이 줄은 실행됩니다.\");\n",
    "\n",
    "```\n",
    "\n",
    "**[Java]**\n",
    "```Java\n",
    "// Java에서 이 줄은 해석되지 않습니다.\n",
    "printf(\"이 줄은 실행됩니다.\");\n",
    "```"
   ]
  },
  {
   "cell_type": "markdown",
   "metadata": {},
   "source": [
    "#### Python은 C, Java와 달리 앞에 #(샵)이 붙는다."
   ]
  },
  {
   "cell_type": "markdown",
   "metadata": {},
   "source": [
    "**[Python]**\n",
    "```python\n",
    "# Python에서 이 줄은 해석되지 않습니다.\n",
    "print(\"이 줄은 해석됩니다.\")\n",
    "```"
   ]
  },
  {
   "cell_type": "markdown",
   "metadata": {},
   "source": [
    "### 프로그램의 시작점"
   ]
  },
  {
   "cell_type": "markdown",
   "metadata": {},
   "source": [
    "* C언어와 Java에서는 \"메인함수\"라는 곳에서부터 코드가 시작된다.\n",
    "\n",
    "* main이라는 단어를 먼저 찾고, 그에 해당하는 블록부터 코드가 시작된다.\n",
    "\n",
    "> 정보처리기사 실기 시험용지를 받자마자 코드를 해석해야 한다면, 가장 먼저 메인 함수를 찾아보자"
   ]
  },
  {
   "cell_type": "markdown",
   "metadata": {},
   "source": [
    "**[C언어]**\n",
    "```c\n",
    "int main() {\n",
    " // 여기서부터 코드가 시작됩니다.\n",
    "}\n",
    "```\n",
    "\n",
    "\n",
    "**[Java]**\n",
    "```Java\n",
    "public class Main {\n",
    "    public static void main(String[] args) {\n",
    "        // 여기서부터 코드가 시작됩니다.\n",
    "        System.out.println(\"Hello, World!\");\n",
    "    }\n",
    "}\n",
    "```"
   ]
  },
  {
   "cell_type": "markdown",
   "metadata": {},
   "source": [
    ">파이썬은 메인함수가 직접적으로 드러나 있지 않아 그냥 순서대로 읽으면 된다."
   ]
  }
 ],
 "metadata": {
  "kernelspec": {
   "display_name": "Python 3",
   "language": "python",
   "name": "python3"
  },
  "language_info": {
   "codemirror_mode": {
    "name": "ipython",
    "version": 3
   },
   "file_extension": ".py",
   "mimetype": "text/x-python",
   "name": "python",
   "nbconvert_exporter": "python",
   "pygments_lexer": "ipython3",
   "version": "3.12.4"
  }
 },
 "nbformat": 4,
 "nbformat_minor": 2
}
