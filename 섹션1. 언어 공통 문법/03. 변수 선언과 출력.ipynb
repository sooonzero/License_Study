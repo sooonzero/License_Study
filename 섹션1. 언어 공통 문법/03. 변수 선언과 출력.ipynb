{
 "cells": [
  {
   "cell_type": "markdown",
   "metadata": {},
   "source": [
    "## 03. 변수 선언과 출력"
   ]
  },
  {
   "cell_type": "markdown",
   "metadata": {},
   "source": [
    "### 1. 언어별 공통 문법: 변수와 출력"
   ]
  },
  {
   "cell_type": "markdown",
   "metadata": {},
   "source": [
    "**[C, Java, Python 언어의 공통점]**\n",
    "- 변수의 조건문, 반복문 ,출력"
   ]
  },
  {
   "cell_type": "markdown",
   "metadata": {},
   "source": [
    "**[변수]**\n",
    "- 변하는 수\n",
    "- 임의로 값을 저장할 때 쓰는 공간\n",
    ">임의: 값이 바뀔 수 있다.\n",
    "\n",
    ">변수 활용 예: Chat GPT에 넣는 대화, 계산기에 입력하는 숫자, 유튜브 영상 아래 입력하는 댓글창\n"
   ]
  },
  {
   "cell_type": "markdown",
   "metadata": {},
   "source": [
    "- 나이는 숫자 형태 이므로, 숫자를 임시로 저장해야함\n",
    "\n",
    "|C언어|Java|Python|\n",
    "|:---:|:---:|:---:|\n",
    "|int age = 25|int age = 25|age = 25|\n",
    "\n"
   ]
  },
  {
   "cell_type": "markdown",
   "metadata": {},
   "source": [
    "**[타입]**\n",
    "|C언어|Java|Python|\n",
    "|:---:|:---:|:---:|\n",
    "|char, int, short, long, float, double..|byte, short, int, long, double, boolean.. |int, float, bool, str, bytes, set, list, dict..|\n",
    "|Array, Struct, Union, Enum, Pointer..|Class, Interface, Array, Enum, Generics.. |Lambda, Generators, Modules..|\n"
   ]
  },
  {
   "cell_type": "markdown",
   "metadata": {},
   "source": [
    "**[시험에 빈도 높은 유형]**\n",
    "|숫자형 자료형|문자 자료형|뭉텅이 자료형|\n",
    "|:---:|:---:|:---:|\n",
    "|int(자료형)|char|struct(구조체)|\n",
    "|float(소수)|String|class|\n",
    "|double(소수)|str|Array(or list)|\n"
   ]
  },
  {
   "cell_type": "markdown",
   "metadata": {},
   "source": [
    "### 기출문제 예제"
   ]
  },
  {
   "cell_type": "markdown",
   "metadata": {},
   "source": [
    "**[C언어, 23년 3회]**\n",
    "\n",
    "```c\n",
    "int main(){\n",
    "    int s = 0;\n",
    "    for(int i=1;i<=100;i++){\n",
    "        if(complete(i))\n",
    "        s += i;\n",
    "    }\n",
    "    printf(\"%d\",s);\n",
    "}\n",
    "\n",
    "```\n",
    "- 정수형태의 숫자 데이터를 앞으로 s라는 단어로 쓰겠다.\n",
    "- 반복문 이후 s라는 변수를 정수형태로 출력해라"
   ]
  },
  {
   "cell_type": "markdown",
   "metadata": {},
   "source": [
    "**[Java, 23년 3회]**\n",
    "```Java\n",
    "public static void main(String[] args){\n",
    "    Conv obj = new Conv(3);\n",
    "    obj.a = 5;\n",
    "    int b = obj.func();\n",
    "    system.out.print(obj.a + b);\n",
    "}\n",
    "```\n",
    "- obj.func()의 어쩌구를 숫자형태인 b라는 단어에 임시로 저장해서 앞으로는 b로 계속 쓰겠다."
   ]
  },
  {
   "cell_type": "markdown",
   "metadata": {},
   "source": [
    "**[Python, 21년 2회]**\n",
    "```Python\n",
    "a = 100\n",
    "result = 0\n",
    "for i in range(1, 3):\n",
    "    result = a >> i\n",
    "    result = result + 1\n",
    "print(result)\n",
    "```\n",
    "- int나 float이라는 단어가 없음\n",
    "- 파이썬은 단어에 저장되면, 언어가 알아서 타입을 지정해준다\n",
    "- 타입별 기능만 알면 유리함"
   ]
  }
 ],
 "metadata": {
  "language_info": {
   "name": "python"
  }
 },
 "nbformat": 4,
 "nbformat_minor": 2
}
