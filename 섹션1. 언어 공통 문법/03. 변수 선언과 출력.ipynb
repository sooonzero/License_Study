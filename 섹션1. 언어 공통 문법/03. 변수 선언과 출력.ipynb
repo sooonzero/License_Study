{
 "cells": [
  {
   "cell_type": "markdown",
   "metadata": {},
   "source": [
    "## 03. 변수 선언과 출력"
   ]
  },
  {
   "cell_type": "markdown",
   "metadata": {},
   "source": [
    "### 1. 언어별 공통 문법: 변수와 출력"
   ]
  },
  {
   "cell_type": "markdown",
   "metadata": {},
   "source": [
    "**[C, Java, Python 언어의 공통점]**\n",
    "- 변수의 조건문, 반복문 ,출력"
   ]
  },
  {
   "cell_type": "markdown",
   "metadata": {},
   "source": [
    "**[변수]**\n",
    "- 변하는 수\n",
    "- 임의로 값을 저장할 때 쓰는 공간\n",
    ">임의: 값이 바뀔 수 있다.\n",
    "\n",
    ">변수 활용 예: Chat GPT에 넣는 대화, 계산기에 입력하는 숫자, 유튜브 영상 아래 입력하는 댓글창\n"
   ]
  },
  {
   "cell_type": "markdown",
   "metadata": {},
   "source": [
    "- 나이는 숫자 형태 이므로, 숫자를 임시로 저장해야함\n",
    "\n",
    "|C언어|Java|Python|\n",
    "|:---:|:---:|:---:|\n",
    "|int age = 25|int age = 25|age = 25|\n",
    "\n"
   ]
  },
  {
   "cell_type": "markdown",
   "metadata": {},
   "source": [
    "**[타입]**\n",
    "|C언어|Java|Python|\n",
    "|:---:|:---:|:---:|\n",
    "|char, int, short, long, float, double..|byte, short, int, long, double, boolean.. |int, float, bool, str, bytes, set, list, dict..|\n",
    "|Array, Struct, Union, Enum, Pointer..|Class, Interface, Array, Enum, Generics.. |Lambda, Generators, Modules..|\n"
   ]
  },
  {
   "cell_type": "markdown",
   "metadata": {},
   "source": [
    "**[시험에 빈도 높은 유형]**\n",
    "|숫자형 자료형|문자 자료형|뭉텅이 자료형|\n",
    "|:---:|:---:|:---:|\n",
    "|int(자료형)|char|struct(구조체)|\n",
    "|float(소수)|String|class|\n",
    "|double(소수)|str|Array(or list)|\n"
   ]
  },
  {
   "cell_type": "markdown",
   "metadata": {},
   "source": [
    "### 기출문제 예제"
   ]
  },
  {
   "cell_type": "markdown",
   "metadata": {},
   "source": [
    "**[C언어, 23년 3회]**\n",
    "\n",
    "```c\n",
    "int main(){\n",
    "    int s = 0;\n",
    "    for(int i=1;i<=100;i++){\n",
    "        if(complete(i))\n",
    "        s += i;\n",
    "    }\n",
    "    printf(\"%d\",s);\n",
    "}\n",
    "\n",
    "```\n",
    "- 정수형태의 숫자 데이터를 앞으로 s라는 단어로 쓰겠다.\n",
    "- 반복문 이후 s라는 변수를 정수형태로 출력해라"
   ]
  },
  {
   "cell_type": "markdown",
   "metadata": {},
   "source": [
    "**[Java, 23년 3회]**\n",
    "```Java\n",
    "public static void main(String[] args){\n",
    "    Conv obj = new Conv(3);\n",
    "    obj.a = 5;\n",
    "    int b = obj.func();\n",
    "    system.out.print(obj.a + b);\n",
    "}\n",
    "```\n",
    "- obj.func()의 어쩌구를 숫자형태인 b라는 단어에 임시로 저장해서 앞으로는 b로 계속 쓰겠다."
   ]
  },
  {
   "cell_type": "markdown",
   "metadata": {},
   "source": [
    "**[Python, 21년 2회]**\n",
    "```Python\n",
    "a = 100\n",
    "result = 0\n",
    "for i in range(1, 3):\n",
    "    result = a >> i\n",
    "    result = result + 1\n",
    "print(result)\n",
    "```\n",
    "- int나 float이라는 단어가 없음\n",
    "- 파이썬은 단어에 저장되면, 언어가 알아서 타입을 지정해준다\n",
    "- 타입별 기능만 알면 유리함"
   ]
  },
  {
   "cell_type": "markdown",
   "metadata": {},
   "source": [
    "**[C, Java, Python 출력 방법] - 외우기**\n",
    "|C 언어|Java|Python|\n",
    "|:---:|:---:|:---:|\n",
    "|printf(변수)|System.out.println(출력값)|print(출력값)|\n",
    "|print(\"%d\", 숫자)|System.out.print(출력값)||\n",
    "|print(\"%c\", 문자)|||\n",
    "|print(\"%s\", 문장)|||\n",
    "\n",
    "- println 에서 ln은 개행(줄바꿈)을 뜻함\n"
   ]
  },
  {
   "cell_type": "markdown",
   "metadata": {},
   "source": [
    "### C, Java, Python 출력 주의할점\n"
   ]
  },
  {
   "cell_type": "markdown",
   "metadata": {},
   "source": [
    "**[C언어]**\n",
    "```c\n",
    "int a = 31;\n",
    "printf(\"%d\\n\", a);\n",
    "printf(\"%d\\n\", a);\n",
    "printf(\"%d\", a);\n",
    "printf(\"%d\", a);\n",
    "```\n",
    "\n",
    "**[c언어 출력값]**\n",
    "```\n",
    "31\n",
    "31\n",
    "3131\n",
    "```\n",
    "\n",
    "- \\n을 통해 개행"
   ]
  },
  {
   "cell_type": "markdown",
   "metadata": {},
   "source": [
    "**[Java]**\n",
    "```java\n",
    "int a = 31\n",
    "System.out.println(a)\n",
    "System.out.println(a)\n",
    "System.out.print(a)\n",
    "System.out.print(a)\n",
    "```\n",
    "\n",
    "**[Java 출력값]**\n",
    "```\n",
    "31\n",
    "31\n",
    "3131\n",
    "```\n",
    "\n",
    "- println을 통해 개행"
   ]
  },
  {
   "cell_type": "markdown",
   "metadata": {},
   "source": [
    "**[Python]**\n",
    "```python\n",
    "a = 31\n",
    "print(a)\n",
    "print(a, end='')\n",
    "print(a)\n",
    "```\n",
    "\n",
    "**[Python 출력값]**\n",
    "```\n",
    "31\n",
    "3131\n",
    "```\n",
    "- Python은 기본 출력값이 개행이다.\n",
    "- end='' 옵션을 통해 옆으로 출력이 가능하다."
   ]
  },
  {
   "cell_type": "markdown",
   "metadata": {},
   "source": [
    "### 정수형태로 출력시 주의할 점\n",
    "\n",
    "아래와 같이 변수 지정시 각 언어별 출력값\n",
    "\n",
    "int a = 3.4\n",
    "float b =3.4\n"
   ]
  },
  {
   "cell_type": "markdown",
   "metadata": {},
   "source": [
    "**[c언어]**\n",
    "```c\n",
    "printf(\"%d\\n\", a);\n",
    "printf(\"%d\\n\", b);\n",
    "```\n",
    "\n",
    "**[C언어 출력값]**\n",
    "```\n",
    "3\n",
    "이상한값\n",
    "```\n",
    "- int에 저장되는 모든 것은 정수로 표현(소수점 아래 버림)"
   ]
  },
  {
   "cell_type": "markdown",
   "metadata": {},
   "source": [
    "**[Java]**\n",
    "```java\n",
    "System.out.println(a);\n",
    "System.out.println(b);\n",
    "```\n",
    "\n",
    "**[Java 출력값]**\n",
    "```\n",
    "오류발생\n",
    "```\n",
    "- int는 소수를 담을 수 없음\n",
    "- double을 쓰고 출력하면 정상값 3.4가 나온다.\n"
   ]
  },
  {
   "cell_type": "markdown",
   "metadata": {},
   "source": [
    ">[변수, 출력 요약 및 주의할 점]\n",
    ">- C언어에서 소수형을 int에 담으면 소수점 아래를 버린다.\n",
    ">- C, Java, Python에서 출력할 때 \"띄어쓰기\"를 주의하자.\n",
    ">- 모든 데이터 형태를 알 필요는 없다. 출력 형태만 외워두자.\n",
    ">    * \\n, println"
   ]
  },
  {
   "cell_type": "markdown",
   "metadata": {},
   "source": [
    "**[출력 방식]**\n",
    "\n",
    "[C언어]\n",
    "- printf(변수)\n",
    "- printf(\"%d\", 숫자 데이터)\n",
    "- printf(\"%s\", 여러개 문자인 문장 데이터)\n",
    "- printf(\"%f\", 소수 데이터)\n",
    "\n",
    "[Java]\n",
    "- System.out.println(출력값)\n",
    "- System.out.print(출력값)\n",
    "\n",
    "[Python]\n",
    "- print(출력값, end=\"\")"
   ]
  },
  {
   "cell_type": "markdown",
   "metadata": {},
   "source": [
    "### C언어 변수와 출력 예제"
   ]
  },
  {
   "cell_type": "markdown",
   "metadata": {},
   "source": [
    "```c\n",
    "int main(){\n",
    "    int num = 42;\n",
    "    char ch = 'A';\n",
    "    float fnum = 3.14;\n",
    "    double dnum = 2.71828;\n",
    "\n",
    "    printf(\"Integer: %d\\n\", num);\n",
    "    printf(\"Character: %c\" ch)\n",
    "    printf(\"Float: %.2f\\nDouble:%.5lf\", fnum, dnum);\n",
    "    printf(\"Combined: %d, %c, %.2f, %.5lf\\n\",num,ch,fnum,dnum)\n",
    "\n",
    "}\n",
    "```"
   ]
  },
  {
   "cell_type": "markdown",
   "metadata": {},
   "source": [
    "**[출력 결과]**\n",
    "```\n",
    "Integer: 42\n",
    "Character: AFloat: 3.14\n",
    "Double: 2.71828Combined: 42.A,3.14,2.71828\n",
    "```"
   ]
  },
  {
   "cell_type": "markdown",
   "metadata": {},
   "source": [
    "### Java 변수와 출력 예제"
   ]
  },
  {
   "cell_type": "markdown",
   "metadata": {},
   "source": [
    "```Java\n",
    "public class VariableTypes{\n",
    "    public static void main(String[] args){\n",
    "        int num = 42;\n",
    "        char ch = 'A';\n",
    "        float fnum = 3.14f;\n",
    "        double dnum = 2.71828;\n",
    "        String str = \"Hello, World!\";\n",
    "        boolean bool = true;\n",
    "\n",
    "        System.out.println(\"Integer: \"+num);\n",
    "        System.out.print(\"Character: \" + ch + \"\\n\");\n",
    "        System.out.printf(\"Float:%.2f\\n\",fnum);\n",
    "        System.out.println(\"Double:\" + dnum);\n",
    "        System.out.print(\"String:\" + str);\n",
    "        System.out.printf(\"\\nBoolean:%b\\n\", bool);\n",
    "        System.out.printf(\"Combined: %d,%c,%.2f,%.5f,%s,%b\",num,ch,fnum,dnum,str,bool);\n",
    "        \n",
    "    }\n",
    "}\n",
    "```"
   ]
  },
  {
   "cell_type": "markdown",
   "metadata": {},
   "source": [
    "**[출력 결과]**\n",
    "```\n",
    "Integer: 42\n",
    "Character: A\n",
    "Float: 3.14\n",
    "Double: 2.71828\n",
    "String: Hello, World!\n",
    "Boolean:true\n",
    "Combined: 42,A,3.17,2.71828,Hello, World!,true\n",
    "```"
   ]
  },
  {
   "cell_type": "markdown",
   "metadata": {},
   "source": [
    "### Python 변수와 출력 예제\n",
    "```Python\n",
    "num = 42\n",
    "ch ='A'\n",
    "fnum = 3.14\n",
    "dnum = 2.71828\n",
    "str = \"Hello, World!\"\n",
    "bool = True\n",
    "\n",
    "print(\"Integer:\",num)\n",
    "print(\"Character:\",ch,end=\"\")\n",
    "print(\"\\nFloat:{:.2f}\".format(fnum))\n",
    "print(\"Double:\", dnumb)\n",
    "print(\"String:\",str,end=\"\\n\")\n",
    "print(\"Boolean: {}\".format(bool))\n",
    "print(f\"Combined: {num},{ch},{fnum:.2f},{dnum:.5f},{str},{bool}\")\n",
    "\n",
    "```"
   ]
  },
  {
   "cell_type": "markdown",
   "metadata": {},
   "source": [
    "**[출력 결과]**\n",
    "```\n",
    "Integer: 42\n",
    "Character: A\n",
    "Float: 3.14\n",
    "Double: 2.71828\n",
    "String: Hello, World!\n",
    "Boolean: True\n",
    "Combined: 42,A,3.14,2.71828,Hello, World!,True\n",
    "\n",
    "```"
   ]
  },
  {
   "cell_type": "markdown",
   "metadata": {},
   "source": [
    "### 변수와 출력 주의할 점!\n",
    "- 출력할 때 개행(줄바꿈)이 되는지 아닌지 중요하게 볼 것\n",
    "- 개행문자는 \\n으로 쓴다.\n",
    "- C언어는 \\n을 유의해서 볼 것\n",
    "- Java는 print, pritln을 꼭 주의해서 구분하자\n",
    "- Python은 print() 함수 안에서 두번째 파라미터가 end= 부분을 잘 살펴보자."
   ]
  }
 ],
 "metadata": {
  "language_info": {
   "name": "python"
  }
 },
 "nbformat": 4,
 "nbformat_minor": 2
}
