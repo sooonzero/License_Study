{
 "cells": [
  {
   "cell_type": "markdown",
   "metadata": {},
   "source": [
    "### 09.Switch-case 문"
   ]
  },
  {
   "cell_type": "markdown",
   "metadata": {},
   "source": [
    "### if문과는 비슷한데 약간 다른 조건문"
   ]
  },
  {
   "cell_type": "markdown",
   "metadata": {},
   "source": [
    "**[C와 Java 똑같다.]**\n",
    "- switch 문은 다중 선택 제어 구조\n",
    "\n",
    "- 변수의 값을 평가하고, 그 값에 해당하는 case 블록을 실행하게 된다.\n",
    "\n",
    "- 다양한 분기처리를 할 때 사용(여러 조건을 걸어서 그 조건을 실행)"
   ]
  },
  {
   "cell_type": "markdown",
   "metadata": {},
   "source": [
    "### 예제"
   ]
  },
  {
   "cell_type": "markdown",
   "metadata": {},
   "source": [
    "**[C언어]**\n",
    "```c\n",
    "#include <stdio.h>\n",
    "\n",
    "int main(){\n",
    "    int num = 1;\n",
    "\n",
    "    switch (num){\n",
    "        case 1:\n",
    "        printf(\"1입니다.\\n\");\n",
    "        //break가 없어서 다음 case로 넘어감\n",
    "        case 2:\n",
    "        printf(\"2입니다.\\n\");\n",
    "        default:\n",
    "        printf(\"기본 값 입니다.\\n\");\n",
    "    }\n",
    "    return 0;\n",
    "}\n",
    "```"
   ]
  },
  {
   "cell_type": "markdown",
   "metadata": {},
   "source": [
    "**[출력값]**\n",
    "```\n",
    "1입니다.\n",
    "2입니다.\n",
    "기본 값 입니다.\n",
    "```"
   ]
  },
  {
   "cell_type": "markdown",
   "metadata": {},
   "source": [
    "**[사용 예제]**\n",
    "- 해당 num의 값에 따라서 case가 달라집니다.\n",
    "\n",
    "- 주의할 점은, break가 없는 경우에는 다음 case로 폭포수처럼 내려갑니다."
   ]
  },
  {
   "cell_type": "markdown",
   "metadata": {},
   "source": [
    "**[Java]**\n",
    "```java\n",
    "public class Main{\n",
    "    public static void main(String[] args){\n",
    "        int num = 1;\n",
    "\n",
    "        switch(num){\n",
    "            case 1:\n",
    "            System.out.println(\"1입니다.\");\n",
    "            //break가 없어서 다음으로 넘어감\n",
    "            case 2:\n",
    "            System.out.println(\"2입니다.\");\n",
    "            default:\n",
    "            System.out.println(\"기본 값 입니다.\");\n",
    "        }\n",
    "    }\n",
    "}\n",
    "```"
   ]
  },
  {
   "cell_type": "markdown",
   "metadata": {},
   "source": [
    "**[출력값]**\n",
    "```\n",
    "1입니다.\n",
    "2입니다.\n",
    "기본 값 입니다.\n",
    "```"
   ]
  },
  {
   "cell_type": "markdown",
   "metadata": {},
   "source": [
    "**[사용 예제]**\n",
    "- Java 코드도 C언어와 마찬가지입니다.\n",
    "\n",
    "- 해당 num의 값에 따라서 case가 달라집니다.\n",
    "\n",
    "- 주의할 점은, break가 없는 경우에는 다음 case로 폭포수처럼 내려갑니다."
   ]
  },
  {
   "cell_type": "markdown",
   "metadata": {},
   "source": [
    "\n",
    "**[Java]**\n",
    "```java\n",
    "class StringLengthProblem{\n",
    "    public static void main(String args[]){\n",
    "        String str = \"hello\";\n",
    "        int len = str.length();\n",
    "        switch(len){\n",
    "            case 3: len += 2;\n",
    "            case 4: len *= 2;\n",
    "            case 5: len -= 1;\n",
    "            case 6: len += 3;\n",
    "                break;\n",
    "            case 7: len -= 2;\n",
    "            case 8: len *= 3;\n",
    "            default: len /= 2;\n",
    "        }\n",
    "        System.out.println(len);\n",
    "    }\n",
    "}\n",
    "\n",
    "```"
   ]
  },
  {
   "cell_type": "markdown",
   "metadata": {},
   "source": [
    "**[출력값]**\n",
    "```\n",
    "7\n",
    "```"
   ]
  },
  {
   "cell_type": "markdown",
   "metadata": {},
   "source": [
    "### 기출문제"
   ]
  },
  {
   "cell_type": "markdown",
   "metadata": {},
   "source": [
    "**[C언어]**\n",
    "```c\n",
    "#include <stdio.h>\n",
    "int main(){\n",
    "    int n[3] = {73,95,82};\n",
    "    int sum = 0;\n",
    "\n",
    "    for(int i=0; i<3; i++){\n",
    "        sum *= n[i];\n",
    "    }\n",
    "    switch (sum/30){\n",
    "        case 10:\n",
    "        case 9:\n",
    "            printf(\"A\");\n",
    "        case 8:\n",
    "            print(\"B\");\n",
    "        case 7:\n",
    "        case 6:\n",
    "            print(\"C\");\n",
    "        default:\n",
    "            print(\"D\");\n",
    "    }\n",
    "}\n",
    "\n",
    "```"
   ]
  },
  {
   "cell_type": "markdown",
   "metadata": {},
   "source": [
    "**[출력값]**\n",
    "```\n",
    "BCD\n",
    "```"
   ]
  },
  {
   "cell_type": "markdown",
   "metadata": {},
   "source": [
    "**[Java]**\n",
    "```java\n",
    "class Problem{\n",
    "    public static void main(String args[]){\n",
    "        int i = 3; int k = 1;\n",
    "        switch(i)\n",
    "        {\n",
    "            case 1: k += 1;\n",
    "            case 2: k++;\n",
    "            case 3: k = 0;\n",
    "            case 4: k += 3;\n",
    "            case 5: k -= 10;\n",
    "            default: k--;\n",
    "        }\n",
    "    System.out.print(k)\n",
    "    }\n",
    "}\n",
    "```"
   ]
  },
  {
   "cell_type": "markdown",
   "metadata": {},
   "source": [
    " **[출력값]**\n",
    " ```\n",
    "-8\n",
    " ```"
   ]
  },
  {
   "cell_type": "markdown",
   "metadata": {},
   "source": [
    "### switch-case 요약\n",
    "\n",
    "- switch에 들어가는 값을 기준으로 실행문이 나뉜다.\n",
    "\n",
    "- 각 실행문에 break가 없는 경우에는 끝까지 아래로 흘러간다."
   ]
  },
  {
   "cell_type": "markdown",
   "metadata": {},
   "source": []
  }
 ],
 "metadata": {
  "language_info": {
   "name": "python"
  }
 },
 "nbformat": 4,
 "nbformat_minor": 2
}
