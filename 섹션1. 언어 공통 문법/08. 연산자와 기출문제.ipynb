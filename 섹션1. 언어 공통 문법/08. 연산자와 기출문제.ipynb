{
 "cells": [
  {
   "cell_type": "markdown",
   "metadata": {},
   "source": [
    "## 08. 연산자와 기출문제"
   ]
  },
  {
   "cell_type": "markdown",
   "metadata": {},
   "source": [
    "### 간단한 계산과 변수를 응용합시다."
   ]
  },
  {
   "cell_type": "markdown",
   "metadata": {},
   "source": [
    "**[가장 간단한 연산자]**\n",
    "\n",
    "`+`, `-`, `*`, `/`, `%`, `//`"
   ]
  },
  {
   "cell_type": "markdown",
   "metadata": {},
   "source": [
    "### 기출로 배우는 연산자"
   ]
  },
  {
   "cell_type": "markdown",
   "metadata": {},
   "source": [
    "**[23년 2회 문제]**\n",
    "```java\n",
    "public class Problem{\n",
    "    public static void main(String[] args){\n",
    "        int m = 4620;\n",
    "\n",
    "        int a = (    )//천원짜리 개수\n",
    "        int b = (    )//오백원짜리 개수\n",
    "        int c = (    )//백원짜리 개수\n",
    "        int d = (    )//십원짜리 개수\n",
    "\n",
    "        System.out.println(a); //천원짜리 4장 출력\n",
    "        System.out.println(b); //오백원원짜리 1장 출력\n",
    "        System.out.println(c); //백원짜리 1장 출력\n",
    "        System.out.println(d); //십원짜리 2장 출력\n",
    "    }\n",
    "}\n",
    "```"
   ]
  },
  {
   "cell_type": "markdown",
   "metadata": {},
   "source": [
    "**[정답]**\n",
    "```\n",
    "m/1000\n",
    "m%1000/500\n",
    "m%500/100\n",
    "m%100/10\n",
    "\n",
    "```"
   ]
  },
  {
   "cell_type": "markdown",
   "metadata": {},
   "source": [
    "**[23년 2회 문제]**\n",
    "```python\n",
    "a = \"engineer information processing\"\n",
    "b = a[:3]\n",
    "c = a[4:6]\n",
    "d = a[28:]\n",
    "print(e)\n",
    "```"
   ]
  },
  {
   "cell_type": "markdown",
   "metadata": {},
   "source": [
    "**[정답]**\n",
    "```\n",
    "engneing\n",
    "```"
   ]
  },
  {
   "cell_type": "markdown",
   "metadata": {},
   "source": [
    "### C언어의 문자열을 붙이는 내장함수"
   ]
  },
  {
   "cell_type": "markdown",
   "metadata": {},
   "source": [
    "```c\n",
    "#include <stdio.h>\n",
    "#include <string.h>\n",
    "\n",
    "int main(){\n",
    "    char str[50] = \"Hello\";\n",
    "    strcat(str,\"World\"); //str에 \"World\"를 연결\n",
    "\n",
    " printf(\"str = %s\\n\", str);\n",
    " return 0;\n",
    "}\n",
    "```"
   ]
  },
  {
   "cell_type": "markdown",
   "metadata": {},
   "source": [
    "**[출력값]**\n",
    "```\n",
    "str = Hello World\n",
    "```"
   ]
  },
  {
   "cell_type": "markdown",
   "metadata": {},
   "source": [
    "### 연산자와 기출문제 요약"
   ]
  },
  {
   "cell_type": "markdown",
   "metadata": {},
   "source": [
    "- 몫과 나머지를 구하는 것을 헷갈리지 말자\n",
    "\n",
    "- 문자, 문자열은 더하면 붙는다.\n",
    "\n",
    "- C언어에는 내장 기능으로 문자열을 붙이는 기능이 있다."
   ]
  }
 ],
 "metadata": {
  "language_info": {
   "name": "python"
  }
 },
 "nbformat": 4,
 "nbformat_minor": 2
}
