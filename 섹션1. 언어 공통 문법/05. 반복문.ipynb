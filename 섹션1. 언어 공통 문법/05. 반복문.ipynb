{
 "cells": [
  {
   "cell_type": "markdown",
   "metadata": {},
   "source": [
    "## 05. 반복문"
   ]
  },
  {
   "cell_type": "markdown",
   "metadata": {},
   "source": [
    "### 공통문법: 반복문"
   ]
  },
  {
   "cell_type": "markdown",
   "metadata": {},
   "source": [
    "### 정보처리기사 실기의 핵심은?\n",
    "1. 조건문: 어떤 조건일 때 코드가 동작하는가\n",
    "2. 문법: C, Java, Python의 고유한 문법\n",
    "3. 방법과 방식: 몇 번을, 어떤 방식으로 반복하는가?\n",
    "    - 반복문 핵심 키워드인 for, while을 학습해보자"
   ]
  },
  {
   "cell_type": "markdown",
   "metadata": {},
   "source": [
    "### 반복문은 C언어를 기준으로 배우고 다른 언어로 확장"
   ]
  },
  {
   "cell_type": "markdown",
   "metadata": {},
   "source": [
    "반복문: `for`, `while`, `do-while`"
   ]
  },
  {
   "cell_type": "markdown",
   "metadata": {},
   "source": [
    "각 키워드가 등장하면, 중요시 봐야하는 것이 있다.\n",
    "- `for` 초기식과 조건식을 잘 봐야한다.\n",
    "- `while` 조건식과 break를 잘 봐야한다.\n",
    "- `do-while` 처음에 무조건 한 번 실행되는 부분을 봐야한다."
   ]
  },
  {
   "cell_type": "markdown",
   "metadata": {},
   "source": [
    "### 반복문: for\n",
    "**[for 반복문의 대략적인 형태]**\n",
    "```c\n",
    "for(초기식; 조건식; 증감식){\n",
    "    // 반복 실행할 코드\n",
    "}\n",
    "```"
   ]
  },
  {
   "cell_type": "markdown",
   "metadata": {},
   "source": [
    "- `초기식` 반복문이 처음 시작할 때 단 한 번 실행됩니다.\n",
    "- `조건식` 이 식이 참(true)인 동안에 반복문을 실행합니다.      조건식이 거짓(false)이 되면 반복문이 종료됩니다.\n",
    "- `증감식` 반복문이 한 번 실행될 때마다 조건식을 검사하기 전에 실행됩니다."
   ]
  },
  {
   "cell_type": "markdown",
   "metadata": {},
   "source": [
    "**[예시]**\n",
    "```c\n",
    "# include <stdio.h>\n",
    "int main(){\n",
    "    for(int i = 0; i < 5; i ++){\n",
    "        printf(\"i의 값: %d\\n\", i);\n",
    "    }\n",
    "    return 0\n",
    "}\n",
    "```\n"
   ]
  },
  {
   "cell_type": "markdown",
   "metadata": {},
   "source": [
    "**[for 반복문 체크리스트]**\n",
    "- 초기식은?: `int i = 0`\n",
    "- 임시변수가 있나?: `네`\n",
    "- 위에서 부터 변수가 오나?: `아니오`(안에서 생성된 i = 0)\n",
    "- 임시변수가 있다면, 어떻게 변하고 있는가?: `0부터 4까지 1씩 증가`\n",
    "- 출력되는 순서를 적어보자\n",
    "    ```\n",
    "    i의 값: 0\n",
    "    i의 값: 1\n",
    "    i의 값: 2\n",
    "    i의 값: 3\n",
    "    i의 값: 4\n",
    "    ```"
   ]
  },
  {
   "cell_type": "markdown",
   "metadata": {},
   "source": [
    "### 반복문: for를 이중으로 반복한다면?"
   ]
  },
  {
   "cell_type": "markdown",
   "metadata": {},
   "source": [
    "**[예시]**\n",
    "```c\n",
    "#include <stdio.h>\n",
    "\n",
    "int main() {\n",
    "    for(int i = 2; i< = 9; i++){\n",
    "        for(int j = 1; j<= 9; j++){\n",
    "            printf(\"%d*%d = %d\",i,j,i*j);\n",
    "        }\n",
    "        printf(\"\\n\");\n",
    "    }\n",
    "    return 0\n",
    "}\n",
    "```"
   ]
  },
  {
   "cell_type": "markdown",
   "metadata": {},
   "source": [
    "**[for 중첩 반복문 체크리스트]**\n",
    "- 초기식은?: `int i = 2` `int j = 1`\n",
    "- 임시변수가 있나?: `네`(i, j)\n",
    "- 위에서 부터 변수가 오나?: `아니오`(안에서 생성된 i, j)\n",
    "- 임시변수가 있다면, 어떻게 변하고 있는가?: \n",
    "    - i: 2부터 9까지 1씩 증가\n",
    "    - j: 1에서 9까지 1씩 증가\n",
    "- 출력되는 순서를 적어보자\n",
    "    ```\n",
    "    2*1 = 22*2 = 42*3 = 6 ... 2*9 = 18\n",
    "    ...\n",
    "    ...\n",
    "    9*1 = 9 ... 9*9 = 81\n",
    "    ```\n",
    "> 반복문 한 번만 더 했는데, 엄청 긴 출력값을 만들었다."
   ]
  },
  {
   "cell_type": "markdown",
   "metadata": {},
   "source": [
    "### 반복문: for의 초기식, 조건식, 증감식이 없는 경우"
   ]
  },
  {
   "cell_type": "markdown",
   "metadata": {},
   "source": [
    "**[예시 1: 초기식이 없는 경우]**\n",
    "```c\n",
    "#include <stdio.h>\n",
    "\n",
    "int main(){\n",
    "    int i = 0; // 초기 변수 선언 및 초기화는 반복문 밖에서 수행\n",
    "    for(;i<5;i++){\n",
    "        printf(\"i의 값: %d\\n\", i)\n",
    "    }\n",
    "}\n",
    "```"
   ]
  },
  {
   "cell_type": "markdown",
   "metadata": {},
   "source": [
    "**[예시 2: 초기식이 없는 경우]**\n",
    "```c\n",
    "#include <stdio.h>\n",
    "\n",
    "int main(){\n",
    "    int i = 1; // 초기 변수 선언 및 초기화는 반복문 밖에서 수행\n",
    "    for(;i <= 10;i++){\n",
    "        printf(\"%d * %d = %d\\n\" 2, i , 2*i); // 2단 곱셈 출력\n",
    "    }\n",
    "}\n",
    "```"
   ]
  },
  {
   "cell_type": "markdown",
   "metadata": {},
   "source": [
    "**[예시 3: 조건식이 없는 경우]**\n",
    "```c\n",
    "#include <stdio.h>\n",
    "\n",
    "int main(){\n",
    "    for(int i = 0;;i++){ // 조건식이 없는 무한루프\n",
    "        if(i >= 5){ //조건을 통해 루프를 종료\n",
    "        }\n",
    "        printf(\"i의 값: %d\\n\", i);\n",
    "    }\n",
    "}\n",
    "```"
   ]
  },
  {
   "cell_type": "markdown",
   "metadata": {},
   "source": [
    "**[예시 4:  조건식이 없는 경우]**\n",
    "```c\n",
    "#include <stdio.h>\n",
    "\n",
    "int main(){\n",
    "    for(int i = 0;;i++){ // 조건식이 없는 무한루프\n",
    "        printf(\"%d * %d = %d\\n\",2,i,2*i)\n",
    "        if(i >= 5){ //조건을 통해 루프를 종료\n",
    "            break;\n",
    "        }\n",
    "    }\n",
    "}\n",
    "```\n",
    "> 조건식이 없을 때 break 유무를 살펴보자"
   ]
  },
  {
   "cell_type": "markdown",
   "metadata": {},
   "source": [
    "**[예시 5: 증감식이 없는 경우]**\n",
    "```c\n",
    "#include <stdio.h>\n",
    "\n",
    "int main(){\n",
    "    for(for i = 0;i<5;){ // 증감식이 없음\n",
    "        printf(\"i의 값: %d\\n\", i)\n",
    "        ㅑ++; // 증감식을 반복문 내부에서 수행\n",
    "    }\n",
    "}\n",
    "```"
   ]
  },
  {
   "cell_type": "markdown",
   "metadata": {},
   "source": [
    "**[예시 6: 증감식이 없는 경우]**\n",
    "```c\n",
    "#include <stdio.h>\n",
    "\n",
    "int main(){\n",
    "    for(for i = 1;i<10;){ // 증감식이 없음\n",
    "        printf(\"%d * %d = %d\\n\")\n",
    "        ㅑ++; // 증감식을 반복문 내부에서 수행\n",
    "    }\n",
    "}\n",
    "```"
   ]
  },
  {
   "cell_type": "markdown",
   "metadata": {},
   "source": [
    "**초기식, 조건식, 증감식 중 두 개가 없을 수도, 셋 다 없을 수 있다.\n",
    "상황에 따라 판단하자**"
   ]
  },
  {
   "cell_type": "markdown",
   "metadata": {},
   "source": [
    "### 반복문: while"
   ]
  },
  {
   "cell_type": "markdown",
   "metadata": {},
   "source": [
    "**[while의 형태]**\n",
    "```c\n",
    "while(조건식){\n",
    "    //반복 실행할 코드\n",
    "}\n",
    "```\n",
    "\n"
   ]
  },
  {
   "cell_type": "markdown",
   "metadata": {},
   "source": [
    "- while은 조건이 참인 동안 계속 반복하는 형태의 반복문\n",
    "- 조건을 달성해서 빠져나가거나, 중간에 break라는 키워드로 문장을 빠져나가야 함\n",
    "- 그렇지 않으면, 계속해서 반복하는 '무한루프'라는 상황에 봉착하여 오류가 발생"
   ]
  },
  {
   "cell_type": "markdown",
   "metadata": {},
   "source": []
  },
  {
   "cell_type": "markdown",
   "metadata": {},
   "source": []
  },
  {
   "cell_type": "markdown",
   "metadata": {},
   "source": []
  }
 ],
 "metadata": {
  "language_info": {
   "name": "python"
  }
 },
 "nbformat": 4,
 "nbformat_minor": 2
}
