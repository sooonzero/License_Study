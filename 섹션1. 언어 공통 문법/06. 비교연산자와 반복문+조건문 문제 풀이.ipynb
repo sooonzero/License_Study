{
 "cells": [
  {
   "cell_type": "markdown",
   "metadata": {},
   "source": [
    "## 06. 비교연산자 반복문 + 조건문 문제 풀이"
   ]
  },
  {
   "cell_type": "markdown",
   "metadata": {},
   "source": [
    "**[사전 지식]**\n",
    "- 언어 3개 공통적으로 참/거짓 판별: <, >, <=, >=와 같은 부등호로 비교해서 참이거나 거짓일 때\n",
    "\n",
    "- `C언어` 조건식에 0이 되는 경우에는 거직으로 인식, 0이 아닌 모든 값이 있으면 참으로 인식\n",
    "  - ex) if(5-5)와 if((5-5) == 0)은 어떻게 다른가?\n",
    "\n",
    "\n",
    "- `Java` 조건식에 단순 숫자가 들어가면 오류가 발생한다. 명확하게 들어가야하지만, ture와 false 단어로 가능(boolean 타입)\n",
    "\n",
    "\n",
    "- `Python` 파이썬에서 비어있지 않은 객체(리스트, 문자열, 튜플)은 참으로 판단하고, 0이나비어있는 객체의 경우 거짓으로 판단한다. 참과 거짓을 직접 쓸 때는 True, False로 표기한다."
   ]
  }
 ],
 "metadata": {
  "language_info": {
   "name": "python"
  }
 },
 "nbformat": 4,
 "nbformat_minor": 2
}
