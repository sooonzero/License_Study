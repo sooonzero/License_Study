{
 "cells": [
  {
   "cell_type": "markdown",
   "metadata": {},
   "source": [
    "## 02. 입력과 출력"
   ]
  },
  {
   "cell_type": "markdown",
   "metadata": {},
   "source": [
    "### 컴퓨터가 값을 받는 방법\n"
   ]
  },
  {
   "cell_type": "markdown",
   "metadata": {},
   "source": [
    "**표준 입출력이란?**\n",
    "\n",
    "- 컴퓨터가 값을 입력받고 값을 출력하는 기본적인 방법\n",
    "\n",
    ">**입력**: 보통 키보드 입력이 기본 소스로 사용되며, 사용자가 콘솔에서 입력한 값이 프로그램으로 전달된다.\n",
    "\n",
    ">**표준 출력**: 콘솔(터미널) 화면을 통해 출력하는 것이 기본적인 방법이며, 프로그램이 실행된 후 결과를 화면에 표시하는 것"
   ]
  },
  {
   "cell_type": "markdown",
   "metadata": {},
   "source": [
    "### 입출력 함수 알아보기"
   ]
  },
  {
   "cell_type": "markdown",
   "metadata": {},
   "source": [
    "- 프로그래밍 언어 환경을 설치하면 자동으로 내장되어 있는 함수를 사용\n",
    "\n",
    "- 입력받는 함수, 출력하는 함수"
   ]
  },
  {
   "cell_type": "markdown",
   "metadata": {},
   "source": [
    "||C언어|Java|Python|\n",
    "|------|:---:|:---:|:---:|\n",
    "|입력받는 함수|scanf, gets, fgets|Scanner|input|\n",
    "|출력하는 함수|printf, puts|System.out.print(), System.out.println()|print|\n",
    "\n",
    "- 입력받는 경우는 거의 없기 때문에 시험에 잘 안나온다.\n",
    "- 출력 위주로 보기"
   ]
  },
  {
   "cell_type": "markdown",
   "metadata": {},
   "source": [
    "### 입출력 함수 예시 알아보기"
   ]
  },
  {
   "cell_type": "markdown",
   "metadata": {},
   "source": [
    "**[C]언어로 입력받고 출력하기 -1]**\n",
    "```C\n",
    "#include <stdio.h>\n",
    "\n",
    "int main(){\n",
    "    int a, b:\n",
    "    printf(\"두 숫자를 입력하세요: \");\n",
    "    scanf(\"%d%d\",&a, &b);\n",
    "    printf(\"%d + %d = %d\\n\", a, b, a+b);\n",
    "    printf(\"%d - %d = %d\\n\", a, b, a-b);\n",
    "    printf(\"%d + %d = %d\\n\", a, b, a*b);\n",
    "    \n",
    "    return 0;\n",
    "}\n",
    "```\n"
   ]
  },
  {
   "cell_type": "markdown",
   "metadata": {},
   "source": [
    "**[C언어로 입력받고 출력하기 -2]**\n",
    "```C\n",
    "#include <stdio.h>\n",
    "\n",
    "int main(){\n",
    "    char input[100]; //입력을 저장할 배열\n",
    "    printf(\"문자열을 입력하세요: \");\n",
    "    gets(input); //문자열 입력 받기\n",
    "    printf(\"입력한 문자열은: \");\n",
    "    puts(input)l //문자열 출력하기\n",
    "    \n",
    "    return 0;\n",
    "}\n",
    "```"
   ]
  },
  {
   "cell_type": "markdown",
   "metadata": {},
   "source": [
    "**[Java로 입력받기]**\n",
    "```java\n",
    "import java.util.Scanner;\n",
    "\n",
    "public class SimpleCalculator{\n",
    "    public static void main(String[] args){\n",
    "        Scanner scanner = new Scanner(System.in);\n",
    "        System.out.print(\"두 숫자를 입력하세요: \");\n",
    "        int a = scanner.nextInt();\n",
    "        int b = scanner.nextInt();\n",
    "        System.out.println(a + \"+\" + b + \"=\" + (a+b));\n",
    "        System.out.println(a + \"-\" + b + \"=\" + (a-b)); \n",
    "        System.out.println(a + \"*\" + b + \"=\" + (a*b)); \n",
    "    }\n",
    "}\n",
    "\n",
    "```"
   ]
  },
  {
   "cell_type": "markdown",
   "metadata": {},
   "source": [
    "**[Python으로 입력받기]**\n",
    "```Python\n",
    "a = int(input('첫 번째 숫자를 입력하세요:))\n",
    "b = int(input('두 번째 숫자를 입력하세요:))\n",
    "\n",
    "print(f\"{a} + {b} = {a+b}\")\n",
    "print(f\"{a} - {b} = {a-b}\")\n",
    "print(f\"{a} * {b} = {a*b}\")\n",
    "\n",
    "```"
   ]
  },
  {
   "cell_type": "markdown",
   "metadata": {},
   "source": [
    "---"
   ]
  },
  {
   "cell_type": "markdown",
   "metadata": {},
   "source": [
    "**[요약]**\n",
    "\n",
    "- 지금까지 정보처리기사 실기 문제에서 \"입력\"을 받는 경우는 거의 없음\n",
    "\n",
    "- 보통 값이 주어지며, 입력을 받는다고 하더라도 기초 문법에 충실하면 크게 어렵지 않을 것."
   ]
  }
 ],
 "metadata": {
  "kernelspec": {
   "display_name": "Python 3",
   "language": "python",
   "name": "python3"
  },
  "language_info": {
   "codemirror_mode": {
    "name": "ipython",
    "version": 3
   },
   "file_extension": ".py",
   "mimetype": "text/x-python",
   "name": "python",
   "nbconvert_exporter": "python",
   "pygments_lexer": "ipython3",
   "version": "3.12.4"
  }
 },
 "nbformat": 4,
 "nbformat_minor": 2
}
