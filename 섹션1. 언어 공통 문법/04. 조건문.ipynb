{
 "cells": [
  {
   "cell_type": "markdown",
   "metadata": {},
   "source": [
    "## 05. 조건문"
   ]
  },
  {
   "cell_type": "markdown",
   "metadata": {},
   "source": [
    "- C: **조건문**, 반복문, 출력\n",
    "- Java : **조건문**, 반복문, 출력\n",
    "- Python: **조건문**, 반복문, 출력"
   ]
  },
  {
   "cell_type": "markdown",
   "metadata": {},
   "source": [
    "### 특정 조건을 만족하면, 코드 실행\n",
    "- 조건문과 반복문은 프로그래밍의 기본적인 제어 구조이다.\n",
    "\n",
    ">조건문: 특정 조건에 따라 실행되는 코드 블럭\n",
    ">\n",
    ">ex) 우산을 가져갈지 말지, 시험 점수에 따른 성적 등급\n",
    "\n",
    "\n",
    ">반복문: 특정 조건이 만족될 때까지 코드 블록을 반복 실행\n",
    ">\n",
    ">ex) 여러 명에게 같은 작업하기, 바뀌는 숫자 반복해서 출력하기"
   ]
  },
  {
   "cell_type": "markdown",
   "metadata": {},
   "source": [
    "### 각 언어에서 조건문을 사용하는 방법"
   ]
  },
  {
   "cell_type": "markdown",
   "metadata": {},
   "source": [
    "**[C, Java]**\n",
    "```c\n",
    "if(조건식){\n",
    "    // 조건식이 참일 때 실행되는 코드\n",
    "}else if(다른 조건식){\n",
    "    // 다른 조건식이 참일 때\n",
    "}else{\n",
    "    // 위에 아무것도 아닐 때 실행\n",
    "}\n",
    "```"
   ]
  },
  {
   "cell_type": "markdown",
   "metadata": {},
   "source": [
    "**[Python]**\n",
    "```python\n",
    "if 조건식:\n",
    "    # 조건식이 참일 때 실행되는 코드\n",
    "elif 다른 조건식:\n",
    "    # 조건식이 거짓일 때 실행되는 코드\n",
    "else:\n",
    "    # 위에 아무 조건식에 해당되지 않을 때\n",
    "```"
   ]
  },
  {
   "cell_type": "markdown",
   "metadata": {},
   "source": [
    "### 실제 예시를 통해 살펴보기"
   ]
  },
  {
   "cell_type": "markdown",
   "metadata": {},
   "source": [
    "```\n",
    "\n",
    "사용자가 입력한 나이가 19세 이하면 다음 페이지로 가지말 것 \n",
    "\n",
    "```"
   ]
  },
  {
   "cell_type": "markdown",
   "metadata": {},
   "source": [
    "**[C언어]**\n",
    "```c\n",
    "#include <stdio.h>\n",
    "int main(){\n",
    "    int age;\n",
    "    pritnf(\"나이를 입력하세요: \");\n",
    "    scanf(\"%d\", &age);\n",
    "    if(age <= 19){\n",
    "        printf(\"다음 페이지로 이동할 수 없습니다.\");\n",
    "    } else {\n",
    "        printf(\"다음 페이지로 이동합니다.\\n\");\n",
    "    }\n",
    "    return 0;\n",
    "}\n",
    "\n",
    "```"
   ]
  },
  {
   "cell_type": "markdown",
   "metadata": {},
   "source": [
    "**[Python]**\n",
    "```python\n",
    "age = int(input(\"나이를 입력하세요: \"))\n",
    "\n",
    "if age <= 19:\n",
    "    print(\"다음 페이지로 이동할 수 없습니다.\")\n",
    "else:\n",
    "    print(\"다음 페이지로 이동합니다.\")\n",
    "\n",
    "```"
   ]
  },
  {
   "cell_type": "markdown",
   "metadata": {},
   "source": [
    "### 실제 기출문제 살펴보기"
   ]
  },
  {
   "cell_type": "markdown",
   "metadata": {},
   "source": [
    "```java\n",
    "public class Exam{\n",
    "    publice static void main(String[] args){\n",
    "\n",
    "        int a = 0;\n",
    "        for (int i = 1; i<999; i++){\n",
    "            if(i%3 == 0 && i%2!=0) // 변수 i가 조건 만족시 a=1\n",
    "                a = 1;\n",
    "        }\n",
    "        System.out.print(a)\n",
    "    }\n",
    "}\n",
    "\n",
    "```"
   ]
  },
  {
   "cell_type": "markdown",
   "metadata": {},
   "source": [
    "### 조건문 예시문제"
   ]
  },
  {
   "cell_type": "markdown",
   "metadata": {},
   "source": [
    "**다음 C 언어 출력값 예상하기**\n",
    "```c\n",
    "#include <stdio.h>\n",
    "\n",
    "int main(){\n",
    "    int number = 10;\n",
    "\n",
    "    if (number > 5){\n",
    "        printf(\"이 숫자는 5보다 큽니다.\\n\");\n",
    "    }\n",
    "\n",
    "    return 0\n",
    "}\n",
    "```"
   ]
  },
  {
   "cell_type": "markdown",
   "metadata": {},
   "source": [
    "**[출력값]**\n",
    "```\n",
    "이 숫자는 5보다 큽니다.\n",
    "```"
   ]
  },
  {
   "cell_type": "markdown",
   "metadata": {},
   "source": [
    "```c\n",
    "#include <stdio.h>\n",
    "\n",
    "int main(){\n",
    "    int number = 3;\n",
    "\n",
    "    if (number > 5){\n",
    "        printf(\"이 숫자는 5보다 큽니다.\\n\");\n",
    "    } else {\n",
    "        printf(\"이 숫자는 5와 같거나 작습니다.\\n\");\n",
    "    }\n",
    "\n",
    "    return 0\n",
    "}\n",
    "```"
   ]
  },
  {
   "cell_type": "markdown",
   "metadata": {},
   "source": [
    "**[출력값]**\n",
    "```\n",
    "이 숫자는 5와 같거나 작습니다.\n",
    "```"
   ]
  },
  {
   "cell_type": "markdown",
   "metadata": {},
   "source": [
    "**다음 Java 출력값 예상하기**\n",
    "\n",
    "```java\n",
    "class NubmerCount{\n",
    "    public static void main(String[] args){\n",
    "        int number = 3;\n",
    "\n",
    "        if(number > 5){\n",
    "            System.out.println(\"5보다 크네요.\");\n",
    "        }else{\n",
    "            System.out.println(\"5보다 크지 않아요.\");\n",
    "        }\n",
    "    }\n",
    "}\n",
    "```"
   ]
  },
  {
   "cell_type": "markdown",
   "metadata": {},
   "source": [
    "**[출력값]**\n",
    "```\n",
    "5보다 크네요\n",
    "```"
   ]
  },
  {
   "cell_type": "markdown",
   "metadata": {},
   "source": [
    "### 조금 더 복잡한 조건문"
   ]
  },
  {
   "cell_type": "markdown",
   "metadata": {},
   "source": [
    "> 조건을 여러개 넣는 방법\n",
    ">1. if문을 중복해서 여러개 쓴다.\n",
    ">2. if 다음 블록에서 else if로 조건을 거른다.\n",
    ">3. 위의 1, 2번을 섞고 가장 마지막에 else"
   ]
  },
  {
   "cell_type": "markdown",
   "metadata": {},
   "source": [
    "**[C언어]**\n",
    "\n",
    "```c\n",
    "int main(){\n",
    "    int number = 7;\n",
    "\n",
    "    if (number > 10){\n",
    "        printf(\"숫자가 10보다 큽니다\\n\");\n",
    "    } else if (number > 5){\n",
    "        (\"숫자가 5보다 크고 10 이하입니다.\\n\");\n",
    "    } else{\n",
    "        printf(\"숫자가 5 이하입니다.\\n\");\n",
    "    }\n",
    "    return 0;\n",
    "\n",
    "\n",
    "```"
   ]
  },
  {
   "cell_type": "markdown",
   "metadata": {},
   "source": [
    "**[출력값]**\n",
    "```\n",
    "숫자가 5보다 크고 10 이하입니다.\n",
    "```"
   ]
  },
  {
   "cell_type": "markdown",
   "metadata": {},
   "source": [
    "**[Java]**\n",
    "```java\n",
    "public class Main{\n",
    "    public static void main(String[] args){\n",
    "        int number = 7;\n",
    "\n",
    "        if (number > 10){\n",
    "            System.out.println(\"숫자가 10보다 큽니다.\");\n",
    "        } else if(number > 5){\n",
    "            System.out.println(\"숫자가 5보다 크고 10 이하입니다.\");\n",
    "        } else{\n",
    "            System.out.println(\"숫자가 5 이하입니다.\");\n",
    "        }\n",
    "    }\n",
    "}\n",
    "\n",
    "```"
   ]
  },
  {
   "cell_type": "markdown",
   "metadata": {},
   "source": [
    "**[출력값]**\n",
    "```\n",
    "숫자가 5보다 크고 10 이하입니다.\n",
    "```"
   ]
  },
  {
   "cell_type": "markdown",
   "metadata": {},
   "source": [
    "**[if, else-if, else를 사용한 Java 코드]**\n",
    "\n",
    "-Java도 메인함수부터 시작한다.\n",
    "\n",
    "```java\n",
    "public class GradeCalculator{\n",
    "    public static void main(String[] args){\n",
    "        int score - 85; // 예시 점수\n",
    "\n",
    "        if(score >= 90){\n",
    "            System.out.println(\"성적: A\");\n",
    "        }else if(score >= 80){\n",
    "            System.out.println(\"성적: B\");\n",
    "        }else if(score >= 70){\n",
    "            System.out.println(\"성적: C\");\n",
    "        }else if(score >= 60){\n",
    "            System.out.println(\"성적: D\");\n",
    "        }else{\n",
    "            System.out.println(\"성적: F\");\n",
    "        }\n",
    "    }\n",
    "}\n",
    "```"
   ]
  },
  {
   "cell_type": "markdown",
   "metadata": {},
   "source": [
    "**[출력값]**\n",
    "```\n",
    "성적: B\n",
    "```"
   ]
  },
  {
   "cell_type": "markdown",
   "metadata": {},
   "source": [
    "### 조건문에 쓰이는 연산자를 배워보자"
   ]
  },
  {
   "cell_type": "markdown",
   "metadata": {},
   "source": [
    "- &&: AND 연산\n",
    "- ||: OR 연산\n",
    "- ==: 같으면 참, 다르면 거짓\n",
    "- !=: 같으면 거짓, 다르면 참"
   ]
  },
  {
   "cell_type": "markdown",
   "metadata": {},
   "source": [
    "### 복잡한 조건문 예제"
   ]
  },
  {
   "cell_type": "markdown",
   "metadata": {
    "vscode": {
     "languageId": "plaintext"
    }
   },
   "source": [
    "**[C언어: a와 b와 c 세 변수의 값 비교]**\n",
    "```c\n",
    "int main(){\n",
    "    int a = 10, b = 5, c = 8;\n",
    "\n",
    "    if(a!=b!=c){\n",
    "        printf(\"세 수는 모두 다릅니다. \\n\")\n",
    "    }else if( a == b || b == c || a == c ){\n",
    "        printf(\"두 개의 수가 같습니다.\")\n",
    "    }\n",
    "\n",
    "    if(a>0||b<0||c==0>){\n",
    "        printf(\"조건을 만족하는 수가 있습니다.\\n\")\n",
    "    } else{\n",
    "        printf(\"조건을 만족하는 수가 없습니다.\\n\")\n",
    "    }\n",
    "}\n",
    "```"
   ]
  },
  {
   "cell_type": "markdown",
   "metadata": {},
   "source": [
    "\n",
    "**[if(a!=b!=c)]**\n",
    "1. 앞의 a!=b 를 먼저 비교해준다.\n",
    "2. 1 혹은 0인 상태에서 != c 비교가 된다.\n",
    "3. 동작은 하지만 a와 b 와 c 를 비교하는 의도와 다르게 된다.\n",
    "4. (a!=b) && (b!=c) && (a!=c) 로 수정해준다."
   ]
  },
  {
   "cell_type": "markdown",
   "metadata": {},
   "source": [
    "**[else if( a == b || b == c || a == c )]**\n",
    "1. 의도는 3개 중 2개의 수만 같으면 출력을 하는 것\n",
    "2. 하지만, 2개의 수가 같을 때도 참, 세개의 수가 같을 때도 참\n",
    "3. printf(\"두 개 이상의 수가 같습니다.\") 로 수정 필요"
   ]
  },
  {
   "cell_type": "markdown",
   "metadata": {},
   "source": [
    "**[if(a>0||b<0||c==0>)]**\n",
    "1. a와 b 중 하나라도 참이게 되면 결과는 참\n",
    "2. a와 b 둘 다 거짓이더라도 c가 참이면 결과는 참\n",
    "3. 의도한대로 하나만 참이여도 의도대로 출력되는 코드\n"
   ]
  }
 ],
 "metadata": {
  "language_info": {
   "name": "python"
  }
 },
 "nbformat": 4,
 "nbformat_minor": 2
}
