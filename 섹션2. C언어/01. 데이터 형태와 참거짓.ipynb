{
 "cells": [
  {
   "cell_type": "markdown",
   "metadata": {},
   "source": [
    "## 01. 데이터 형태와 참/거짓"
   ]
  },
  {
   "cell_type": "markdown",
   "metadata": {},
   "source": [
    "### C언어 데이터 종류"
   ]
  },
  {
   "cell_type": "markdown",
   "metadata": {},
   "source": [
    "**[정수형 Integer Types]**\n",
    "- short: 작은정수 `%d`, `%hd`\n",
    "\n",
    "- int: 정수 `%d`\n",
    "\n",
    "- long: 큰 정수 `%ld`"
   ]
  },
  {
   "cell_type": "markdown",
   "metadata": {},
   "source": [
    "**[문자형 Character Type]**\n",
    "- char: 문자 `%c`"
   ]
  },
  {
   "cell_type": "markdown",
   "metadata": {},
   "source": [
    "**[실수형 Floating-Point Types]**"
   ]
  },
  {
   "cell_type": "markdown",
   "metadata": {},
   "source": [
    "- float: 단정밀도 부동 소수점 `%f`\n",
    "\n",
    "- double: 배정밀도 부동 소수점 `%lf`"
   ]
  },
  {
   "cell_type": "markdown",
   "metadata": {},
   "source": [
    "**[기타 자료형]**"
   ]
  },
  {
   "cell_type": "markdown",
   "metadata": {},
   "source": [
    "- void: 값을 반환하지 않는 함수의 반환 타입 또는 범용 포인터"
   ]
  },
  {
   "cell_type": "markdown",
   "metadata": {},
   "source": [
    "### 문자열 선언/출력"
   ]
  },
  {
   "cell_type": "markdown",
   "metadata": {},
   "source": [
    "**[문자열 선언 방법 4가지]**\n",
    "```c\n",
    "// 문자열 배열로 할당\n",
    "char str1[] = \"Hello\";\n",
    "\n",
    "// 문자열 포인터로 할당\n",
    "char *str2 = \"Hello\";\n",
    "\n",
    "// 문자 배열로 할당\n",
    "char str3[] = {'H','e','l','l','o','\\0'};\n",
    "\n",
    "// 문자열 배열 할당 후 개별 문자 할당\n",
    "char str4[6];\n",
    "str4[0] = 'H';\n",
    "str4[1] = 'e';\n",
    "str4[2] = 'l';\n",
    "str4[3] = 'l';\n",
    "str4[4] = 'o';\n",
    "str4[5] = '\\0';\n",
    "\n",
    "\n",
    "\n",
    "```"
   ]
  },
  {
   "cell_type": "markdown",
   "metadata": {},
   "source": [
    "**[문자열 출력 방식 4가지]**\n",
    "```c\n",
    "// 문자 단위로 출력\n",
    "for (int i = 0; str1[i] != '\\0'; i++){\n",
    "    printf(\"%c\", str1[i]);\n",
    "}\n",
    "\n",
    "// puts 함수로 출력\n",
    "puts(str1);\n",
    "puts(str2);\n",
    "puts(str3);\n",
    "puts(str4);\n",
    "\n",
    "// 포인터를 사용하여 문자열 출력\n",
    "char*ptr = str2;\n",
    "while (*ptr != '\\0'){\n",
    "    printf(\"%c\", *ptr);\n",
    "    ptr++;\n",
    "}\n",
    "\n",
    "// printf 함수로 출력\n",
    "printf(\"%s\\n\", str1);\n",
    "printf(\"%s\\n\", str2);\n",
    "printf(\"%s\\n\", str3);\n",
    "printf(\"%s\\n\", str4);\n",
    "\n",
    "```"
   ]
  },
  {
   "cell_type": "markdown",
   "metadata": {},
   "source": [
    "### 데이터 형태와 참거짓 정리 "
   ]
  },
  {
   "cell_type": "markdown",
   "metadata": {},
   "source": [
    "1. 숫자형, 문자형, 배열 단골형태\n",
    "\n",
    "2. 참/거짓은 1외의 값, 0으로 판단한다. (0: 거짓, 그외의 값: 참)"
   ]
  }
 ],
 "metadata": {
  "language_info": {
   "name": "python"
  }
 },
 "nbformat": 4,
 "nbformat_minor": 2
}
