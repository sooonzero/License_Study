{
 "cells": [
  {
   "cell_type": "markdown",
   "metadata": {},
   "source": [
    "## 01. 비트연산자"
   ]
  },
  {
   "cell_type": "markdown",
   "metadata": {},
   "source": [
    "**[비트 연산자]**\n",
    "- 비트 연산자는 이진수 표현을 기반으로 한 연산을 수행하는 연산자\n",
    "\n",
    "- 비트 연산자를 수해아기 위해서는 \"이진수\"로 변환해서 값을 봐야한다."
   ]
  },
  {
   "cell_type": "markdown",
   "metadata": {},
   "source": [
    "### 2진수 변환 연습\n",
    "\n",
    "|십진수|이진수|\n",
    "|:---:|:---:|\n",
    "|5|101|\n",
    "|43|101011|\n",
    "|68|1000100|\n",
    "|101|1100101|"
   ]
  },
  {
   "cell_type": "markdown",
   "metadata": {},
   "source": [
    "### AND 연산자(&)"
   ]
  },
  {
   "cell_type": "markdown",
   "metadata": {},
   "source": [
    "```c\n",
    "#include <stdio.h>\n",
    "\n",
    "int main(){\n",
    "    int a = 5; //0101\n",
    "    int b = 3; //0011\n",
    "    int result = a&b; //0001\n",
    "\n",
    "    print(\"a&b의 결과: %d\",result);\n",
    "    return 0;\n",
    "}\n",
    "```"
   ]
  },
  {
   "cell_type": "markdown",
   "metadata": {},
   "source": [
    "**[출력결과]**\n",
    "\n",
    "a&b의 결과: 1\n",
    "\n",
    "(0001을 십진수로 표현해서 출력)"
   ]
  },
  {
   "cell_type": "markdown",
   "metadata": {},
   "source": [
    "- & 하나만 쓰는 연산자는, 앞 뒤를 이진수로 바꾼 이후 두 비트가 모두 1일 때만 1을 반환한다.\n",
    "\n",
    "- 같은 자리수를 비교해서 답을 도출하면 된다."
   ]
  },
  {
   "cell_type": "markdown",
   "metadata": {},
   "source": [
    "### OR 연산자 (|)"
   ]
  },
  {
   "cell_type": "markdown",
   "metadata": {},
   "source": [
    "```c\n",
    "#include <stdio.h>\n",
    "\n",
    "int main() {\n",
    "    int a = 5; //0101\n",
    "    int b = 3; //0011\n",
    "    int result = a|b; //0111\n",
    "\n",
    "    print(\"a|b의 결과: %d\\n\",result);\n",
    "    return 0;\n",
    "}\n",
    "\n",
    "```"
   ]
  },
  {
   "cell_type": "markdown",
   "metadata": {},
   "source": [
    "**[출력결과]**\n",
    "\n",
    "a|b의 결과: 7\n",
    "\n"
   ]
  },
  {
   "cell_type": "markdown",
   "metadata": {},
   "source": [
    "- |하나만 쓰는 연산자는, 앞 뒤를 이진수로 바꾼 이후 두 비트 중 하나만 1이어도 1을 출력하는 연산자다.\n",
    "(둘 다 0인경우에만 0으로 작성)\n",
    "\n",
    "- 같은 자리수를 비교해서 답을 도출하면 된다."
   ]
  },
  {
   "cell_type": "markdown",
   "metadata": {},
   "source": [
    "### XOR 연산자 ^"
   ]
  },
  {
   "cell_type": "markdown",
   "metadata": {},
   "source": [
    "```c\n",
    "#include <stdio.h>\n",
    "\n",
    "int main(){\n",
    "    int a = 5; //0101\n",
    "    int b = 3; //0011\n",
    "    int result = a^b; //0110\n",
    "\n",
    "    print(\"a^b의 결과: %d\\n\", result);\n",
    "    return 0;\n",
    "}\n",
    "```"
   ]
  },
  {
   "cell_type": "markdown",
   "metadata": {},
   "source": [
    "**[실행결과]**\n",
    "\n",
    "a^b의 결과: 6"
   ]
  },
  {
   "cell_type": "markdown",
   "metadata": {},
   "source": [
    "- ^ 하나만 쓰는 연산자는, 앞 뒤를 이진수로 바꾼 이후 두 비트가 다른 경우 1을 반환한다.\n",
    "(둘 다 같은 값인 경우 0으로 작성)\n",
    "\n",
    "- 같은 자리수를 비교해서 답을 도출하면 된다."
   ]
  },
  {
   "cell_type": "markdown",
   "metadata": {},
   "source": [
    "### XOR을 이용한 값 스왑"
   ]
  },
  {
   "cell_type": "markdown",
   "metadata": {},
   "source": [
    "```c\n",
    "#include <stdio.h>\n",
    "\n",
    "int main(){\n",
    "    int a = 5;\n",
    "    int b = 10;\n",
    "\n",
    "    printf(\"스왑 전: a = %d, b = %d]n\",a, b);\n",
    "\n",
    "    a = a^b; // a = a와 b의 비트가 다른 경우 1로 작성된 값을 가져라\n",
    "    b = a^b; // b = 이전의 a의 값을 가져라\n",
    "    a = a^b; // a = 이전의 b의 값을 가져라\n",
    "\n",
    "    printf(\"스왑 후: a = %d, b = %d\\n\", a, b)\n",
    "}\n",
    "```"
   ]
  },
  {
   "cell_type": "markdown",
   "metadata": {},
   "source": [
    "**[출력결과]**\n",
    "\n",
    "스왑 전: a = 5, b = 10\n",
    "\n",
    "스왑 후: a = 10, b = 5"
   ]
  },
  {
   "cell_type": "markdown",
   "metadata": {},
   "source": [
    "### NOT 연산자"
   ]
  },
  {
   "cell_type": "markdown",
   "metadata": {},
   "source": [
    "```c\n",
    "#include <stdio.h>\n",
    "\n",
    "int main(){\n",
    "    int a = 5;\n",
    "    int result = ~a;\n",
    "\n",
    "    printf(\"~a의 결과: %d\\n\", result);\n",
    "    return 0;\n",
    "}\n",
    "\n",
    "```"
   ]
  },
  {
   "cell_type": "markdown",
   "metadata": {},
   "source": [
    "**[출력결과]**\n",
    "\n",
    "~a의 결과: -6 (2의 보수로 인하여 -6으로 도출됨)\n",
    "\n",
    "- 2의 보수: 피연산자가 양수인 경우, 1을 더한 이후에 음수로 바꾸는것"
   ]
  },
  {
   "cell_type": "markdown",
   "metadata": {},
   "source": [
    "### 비트연산자 요약"
   ]
  },
  {
   "cell_type": "markdown",
   "metadata": {},
   "source": [
    "`&`: 비트가 둘 다 1일 때 1로 작서\n",
    "\n",
    "`|`: 둘 중에 하나만 1일 때 1로 작성\n",
    "\n",
    "`^`: 비트가 다르면 1, 같으면 0\n",
    "\n",
    "`~`: 전체 비트를 반대로 바꾼다. (2의 보수)"
   ]
  }
 ],
 "metadata": {
  "language_info": {
   "name": "python"
  }
 },
 "nbformat": 4,
 "nbformat_minor": 2
}
