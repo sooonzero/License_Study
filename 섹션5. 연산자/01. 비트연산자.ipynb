{
 "cells": [
  {
   "cell_type": "markdown",
   "metadata": {},
   "source": [
    "## 01. 비트연산자"
   ]
  },
  {
   "cell_type": "markdown",
   "metadata": {},
   "source": [
    "**[비트 연산자]**\n",
    "- 비트 연산자는 이진수 표현을 기반으로 한 연산을 수행하는 연산자\n",
    "\n",
    "- 비트 연산자를 수해아기 위해서는 \"이진수\"로 변환해서 값을 봐야한다."
   ]
  },
  {
   "cell_type": "markdown",
   "metadata": {},
   "source": [
    "### 2진수 변환 연습\n",
    "\n",
    "|십진수|이진수|\n",
    "|:---:|:---:|\n",
    "|5|101|\n",
    "|43|101011|\n",
    "|68|1000100|\n",
    "|101|1100101|"
   ]
  },
  {
   "cell_type": "markdown",
   "metadata": {},
   "source": [
    "### AND 연산자(&)"
   ]
  },
  {
   "cell_type": "markdown",
   "metadata": {},
   "source": []
  },
  {
   "cell_type": "markdown",
   "metadata": {},
   "source": []
  },
  {
   "cell_type": "markdown",
   "metadata": {},
   "source": []
  },
  {
   "cell_type": "code",
   "execution_count": null,
   "metadata": {},
   "outputs": [],
   "source": []
  }
 ],
 "metadata": {
  "language_info": {
   "name": "python"
  }
 },
 "nbformat": 4,
 "nbformat_minor": 2
}
