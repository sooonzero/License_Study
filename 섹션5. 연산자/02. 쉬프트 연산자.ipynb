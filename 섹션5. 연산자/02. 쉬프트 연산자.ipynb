{
 "cells": [
  {
   "cell_type": "markdown",
   "metadata": {},
   "source": [
    "## 02. 쉬프트 연산자"
   ]
  },
  {
   "cell_type": "markdown",
   "metadata": {},
   "source": []
  },
  {
   "cell_type": "markdown",
   "metadata": {},
   "source": [
    "**[쉬프트 연산자]**\n",
    "\n",
    "- 이진수 형태의 값을 왼쪽에서 또는 오른쪽으로 이동시키는 연산자\n",
    "\n",
    "- 주로 비트 조작, 빠른 곱셈 또는 나눗셈을 위해 사용됨\n",
    "\n",
    ">중요한 것은 비트를 왼쪽인 오른쪽으로 이동시킨다는 것\n"
   ]
  },
  {
   "cell_type": "markdown",
   "metadata": {},
   "source": []
  },
  {
   "cell_type": "markdown",
   "metadata": {},
   "source": []
  },
  {
   "cell_type": "markdown",
   "metadata": {},
   "source": []
  },
  {
   "cell_type": "markdown",
   "metadata": {},
   "source": []
  },
  {
   "cell_type": "code",
   "execution_count": null,
   "metadata": {},
   "outputs": [],
   "source": []
  }
 ],
 "metadata": {
  "language_info": {
   "name": "python"
  }
 },
 "nbformat": 4,
 "nbformat_minor": 2
}
