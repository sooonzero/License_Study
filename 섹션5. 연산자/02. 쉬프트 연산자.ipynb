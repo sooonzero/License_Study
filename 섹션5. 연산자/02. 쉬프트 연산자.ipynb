{
 "cells": [
  {
   "cell_type": "markdown",
   "metadata": {},
   "source": [
    "## 02. 쉬프트 연산자"
   ]
  },
  {
   "cell_type": "markdown",
   "metadata": {},
   "source": [
    "**[비트 연산자]**\n",
    "\n",
    "- 이진수를 표현을 기반으로 한 연산을 수행하는 연산자\n",
    "\n",
    "- 비트 연산자를 수행하기 위해서는 \"이진수\"로 변환해서 값을 봐야한다."
   ]
  },
  {
   "cell_type": "markdown",
   "metadata": {},
   "source": [
    "**[쉬프트 연산자]**\n",
    "\n",
    "- 이진수 형태의 값을 왼쪽에서 또는 오른쪽으로 이동시키는 연산자\n",
    "\n",
    "- 주로 비트 조작, 빠른 곱셈 또는 나눗셈을 위해 사용됨\n",
    "\n",
    ">중요한 것은 비트를 왼쪽인 오른쪽으로 이동시킨다는 것\n"
   ]
  },
  {
   "cell_type": "markdown",
   "metadata": {},
   "source": [
    "### (<<) 비트를 왼쪽으로 밀어라"
   ]
  },
  {
   "cell_type": "markdown",
   "metadata": {},
   "source": [
    "```c\n",
    "#include <stdio.h>\n",
    "\n",
    "int main(){\n",
    "    int a = 5; //0101\n",
    "    int result = a<<1; //1010\n",
    "\n",
    "    printf(\"a<<1의 결과:  %d\\n\", result); //a<<1의 결과: 10\n",
    "    return 0;\n",
    "}\n",
    "\n",
    "```"
   ]
  },
  {
   "cell_type": "markdown",
   "metadata": {},
   "source": [
    "- 쉬프트연산자 (<<)\n",
    "\n",
    "- 값을 이진수로 바꾼 뒤에 왼쪽으로 두번 밀어라"
   ]
  },
  {
   "cell_type": "markdown",
   "metadata": {},
   "source": [
    "###    (>>) 비트를 오른쪽으로 밀어라"
   ]
  },
  {
   "cell_type": "markdown",
   "metadata": {},
   "source": [
    "```c\n",
    "#include <stdio.h>\n",
    "\n",
    "int main(){\n",
    "    int a = 5; //0101\n",
    "    int result = a>>2; //000101\n",
    "\n",
    "    printf(\"a>>1의 결과:  %d\\n\", result); //a>>1의 결과: 5\n",
    "    return 0;\n",
    "}\n",
    "\n",
    "```"
   ]
  },
  {
   "cell_type": "markdown",
   "metadata": {},
   "source": [
    "- 쉬프트연산자 (>>)\n",
    "\n",
    "- 값을 이진수로 바꾼 뒤에 왼쪽으로 두번 밀어라"
   ]
  },
  {
   "cell_type": "markdown",
   "metadata": {},
   "source": [
    "### (>>>) 부호 없는 쉬프트 연산자"
   ]
  },
  {
   "cell_type": "markdown",
   "metadata": {},
   "source": [
    "```java\n",
    "public class UnsignedRightShift{\n",
    "    public static void main(String[] args){\n",
    "        int a = 20; //00010100 (32비트 기준)\n",
    "        int result = a>>>2; // 00000101\n",
    "\n",
    "        System.out.println(\"a>>>2의 결과: \" + result);\n",
    "    }\n",
    "}\n",
    "```"
   ]
  },
  {
   "cell_type": "markdown",
   "metadata": {},
   "source": [
    "*`(주의)` 이 연산자는 Java에서만 쓰입니다.*\n",
    "\n",
    "- 부호 비트를 무시하고, 오른쪽으로 비트를 이동시킨다.\n",
    "\n",
    "- 왼쪽에는 0을 채운다.\n",
    "\n",
    "- 출제 확률이 낮다."
   ]
  },
  {
   "cell_type": "markdown",
   "metadata": {},
   "source": [
    "### 쉬프트 연산자 요약"
   ]
  },
  {
   "cell_type": "markdown",
   "metadata": {},
   "source": [
    "- `<<` 이진수로 변환 이후에 비트를 왼쪽으로 밀어라\n",
    "\n",
    "- `>>` 이진수로 변환 이후에 비트를 오른쪽으로 밀어라\n",
    "\n",
    "- `<<n` n번 왼쪽으로 밀어라, 나머지는 0으로 채움"
   ]
  }
 ],
 "metadata": {
  "language_info": {
   "name": "python"
  }
 },
 "nbformat": 4,
 "nbformat_minor": 2
}
