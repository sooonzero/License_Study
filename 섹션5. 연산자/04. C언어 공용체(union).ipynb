{
 "cells": [
  {
   "cell_type": "markdown",
   "metadata": {},
   "source": [
    "## 04. C언어 공용체(union)"
   ]
  },
  {
   "cell_type": "markdown",
   "metadata": {},
   "source": [
    "- 구조체랑 비슷하지만, 공용체는 union이라는 키워드를 사용\n",
    "\n",
    "- 구조체는 멤버의 변수 하나하나에 다 메모리를 할당하지만, 공용체는 메모리 할당량이 가장 큰 변수 공간 하나에만 할당\n",
    "\n",
    "- 즉, 멤버 중에서 가장 덩치가 큰 자료형이 딱 들어갈만큼의 공간을 확보\n",
    "\n",
    "- 공간을 공동으로 쓰면서 기존에 있던 값이 없어지고, 새로운 값을 덮어쓰면서 메모리 공간을 사용"
   ]
  },
  {
   "cell_type": "markdown",
   "metadata": {},
   "source": [
    "### 예제1"
   ]
  },
  {
   "cell_type": "markdown",
   "metadata": {},
   "source": [
    "```c\n",
    "#include <stdio.h>\n",
    "\n",
    "union Number {\n",
    "    int integer;\n",
    "    float floating;\n",
    "};\n",
    "\n",
    "int main() {\n",
    "    union Number num;\n",
    "    \n",
    "    num.integer = 42;\n",
    "    printf(\"Integer: %d\\n\", num.integer);\n",
    "    \n",
    "    num.floating = 3.14;\n",
    "    printf(\"Float: %.2f\\n\", num.floating);\n",
    "    printf(\"Integer: %d\\n\", num.integer);\n",
    "    return 0;\n",
    "}\n",
    "```"
   ]
  },
  {
   "cell_type": "markdown",
   "metadata": {},
   "source": [
    "**[출력값]**\n",
    "\n",
    "Integer: 42\n",
    "\n",
    "Float: 3.14\n",
    "\n",
    "Integer: 1078523331 (쓰레기값) -> Integer 값이 삭제되어서 그럼"
   ]
  },
  {
   "cell_type": "markdown",
   "metadata": {},
   "source": [
    "### 예제2"
   ]
  },
  {
   "cell_type": "markdown",
   "metadata": {},
   "source": [
    "```c\n",
    "#include <stdio.h>\n",
    "\n",
    "union Data {\n",
    "    char character;\n",
    "    int integer;\n",
    "};\n",
    "\n",
    "int main() {\n",
    "    union Data data;\n",
    "    \n",
    "    data.character = 'A';\n",
    "    printf(\"Character: %c\\n\", data.character);\n",
    "    \n",
    "    data.integer = 65;\n",
    "    printf(\"Integer: %d\\n\", data.integer);\n",
    "\n",
    "    // 각 변수의 크기와 공용체의 크기를 출력하는 구문 추가\n",
    "    printf(\"Size of character: %zu bytes\\n\", sizeof(data.character));\n",
    "    printf(\"Size of integer: %zu bytes\\n\", sizeof(data.integer));\n",
    "    printf(\"Size of union Data: %zu bytes\\n\", sizeof(data));\n",
    "\n",
    "    return 0;\n",
    "}\n",
    "```"
   ]
  },
  {
   "cell_type": "markdown",
   "metadata": {},
   "source": [
    "**[출력값]**\n",
    "* C언어에서 문자 1개는 1바이트이고, 정수형은 4바이트\n",
    "\n",
    "Character: A\n",
    "\n",
    "Integer: 65\n",
    "\n",
    "Size of character: 1 bytes\n",
    "\n",
    "Size of integer: 4 bytes\n",
    "\n",
    "Size of union Data: 4 bytes"
   ]
  },
  {
   "cell_type": "code",
   "execution_count": null,
   "metadata": {},
   "outputs": [],
   "source": []
  }
 ],
 "metadata": {
  "language_info": {
   "name": "python"
  }
 },
 "nbformat": 4,
 "nbformat_minor": 2
}
