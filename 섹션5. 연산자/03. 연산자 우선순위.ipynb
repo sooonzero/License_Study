{
 "cells": [
  {
   "cell_type": "markdown",
   "metadata": {},
   "source": [
    "## 03. 연산자 우선순위"
   ]
  },
  {
   "cell_type": "markdown",
   "metadata": {},
   "source": [
    "### C언어 기준 연산자 종류들"
   ]
  },
  {
   "cell_type": "markdown",
   "metadata": {},
   "source": [
    "|우선순위|연산자 종류|연산자|\n",
    "|:---:|:---:|:---:|\n",
    "|1|괄호 및 접근 연산자|`()`, `[]`, `->`, `.`, `++`, `--` (후위 연산자일 때)|\n",
    "|2|단항 연산자|`!`, `~`, `++`, `--`, `-`(단항), `*`(포인터), `&`(포인터), `(type)`, `sizeof`|\n",
    "|3|산술 연산자|`*`, `/`, `%`|\n",
    "|4|산술 연산자|`+` ,`-`|\n",
    "|5|비트 시프트 연산자|`<<`, `>>`|\n",
    "|6|관계 연산자|`<`, `<=`, `>`, `>=`|\n",
    "|7|관계 연산자|`==`, `!=`|\n",
    "|8|비트 AND 연산자|`&`|\n",
    "|9|비트 XOR 연산자| `^` |\n",
    "|10|비트 OR 연산자| `|`|\n",
    "|11|논리 연산자| `&&` |\n",
    "|12|논리 연산자| `||` |\n",
    "|13|조건부 연산자(삼항)|`?:`|\n",
    "|14|대입 연산자|`=`, `+=`, `-=`, `*=`, `/=`, `%=`, `<<=`, `>>=`, `&=`, `^=`, ` |\n",
    "|15|쉼표 연산자|`,`|\n"
   ]
  },
  {
   "cell_type": "markdown",
   "metadata": {},
   "source": [
    "### 예제로 확인하기"
   ]
  },
  {
   "cell_type": "markdown",
   "metadata": {},
   "source": [
    "**[예제1]**\n",
    "```c\n",
    "#include <stdio.h>\n",
    "\n",
    "int main(){\n",
    "    int a = 21;\n",
    "int b = 6;\n",
    "int c = 3;\n",
    "int d = 10;\n",
    "\n",
    "int result = d%b + ++a * c--;\n",
    "\n",
    "printf(result)\n",
    "\n",
    "return 0;\n",
    "}\n",
    "\n",
    "```"
   ]
  },
  {
   "cell_type": "markdown",
   "metadata": {},
   "source": [
    "**[result 계산 과정]**\n",
    "1. d%b `4`\n",
    "\n",
    "2. ++a, c-- `22` `3`\n",
    "\n",
    "3. a * c `66`\n",
    "\n",
    "4. d%b 값 + a*c `70`\n",
    "\n",
    "5. result = 70"
   ]
  },
  {
   "cell_type": "markdown",
   "metadata": {},
   "source": [
    "**[예제2]**\n",
    "```c\n",
    "#include<stdio.h>\n",
    "\n",
    "int main(){\n",
    "    int a = 2, b = 3, c = 4;\n",
    "    result = a + b * c\n",
    "    print(\"%d\",result);\n",
    "    return 0;\n",
    "}\n",
    "```"
   ]
  },
  {
   "cell_type": "markdown",
   "metadata": {},
   "source": [
    "**[result 계산 과정]**\n",
    "1. 3 * 4\n",
    "\n",
    "2. 2 + 12\n",
    "\n",
    "3. result =14"
   ]
  },
  {
   "cell_type": "markdown",
   "metadata": {},
   "source": [
    "**[예제3]**\n",
    "```c\n",
    "#include<stdio.h>\n",
    "\n",
    "int main(){\n",
    "    int a = 1, b = 0, c = 1;\n",
    "    result = a||b&&c;\n",
    "    printf(\"%d\\n\", result )\n",
    "    return 0;\n",
    "}\n",
    "```"
   ]
  },
  {
   "cell_type": "markdown",
   "metadata": {},
   "source": [
    "**[result 계산 과정]**\n",
    "* AND 연산이 OR 연산보다 우선\n",
    "\n",
    "* 0은 거짓 나머지는 참\n",
    "\n",
    "1. b&&c `0`\n",
    "\n",
    "2. a||0 `1`\n",
    "\n",
    "3. result =1"
   ]
  },
  {
   "cell_type": "markdown",
   "metadata": {},
   "source": [
    "**[예제4]**\n",
    "```c\n",
    "#include<stdio.h>\n",
    "\n",
    "int main(){\n",
    "    int arr[] = {10. 20. 30};\n",
    "    int *ptr = arr;\n",
    "\n",
    "    result = *++ptr // 포인터를 먼저 증가시키고, 그 후의 값을 취함: 20\n",
    "    printf(\"%d\\n\", result )\n",
    "\n",
    "    result = *ptr // 포인터는 20을 가리킴\n",
    "    printf(\"%d\\n\", result )\n",
    "    return 0;\n",
    "}\n",
    "```"
   ]
  },
  {
   "cell_type": "markdown",
   "metadata": {},
   "source": [
    "**[result]**\n",
    "1. 20\n",
    "\n",
    "2. 20"
   ]
  },
  {
   "cell_type": "markdown",
   "metadata": {},
   "source": [
    "**[예제5]**\n",
    "```c\n",
    "#include<stdio.h>\n",
    "\n",
    "int main(){\n",
    "    int arr[] = {10. 20. 30};\n",
    "    int *ptr = arr;\n",
    "\n",
    "    result = *++ptr // 포인터를 먼저 증가시키고, 그 후의 값을 취함: 20\n",
    "    printf(\"%d\\n\", result )\n",
    "\n",
    "    result = *--ptr // 포인터는 10을 가르킴\n",
    "    printf(\"%d\\n\", result )\n",
    "    return 0;\n",
    "}\n",
    "```"
   ]
  },
  {
   "cell_type": "markdown",
   "metadata": {},
   "source": [
    "**[result]**\n",
    "1. 20\n",
    "\n",
    "2. 10"
   ]
  },
  {
   "cell_type": "markdown",
   "metadata": {},
   "source": [
    "**[예제6]**\n",
    "```c\n",
    "#include<stdio.h>\n",
    "\n",
    "int main(){\n",
    "    int arr[] = {10. 20. 30};\n",
    "    int *ptr = arr;\n",
    "\n",
    "    result = *ptr++ \n",
    "    printf(\"%d\\n\", result )\n",
    "\n",
    "    result = *ptr\n",
    "    printf(\"%d\\n\", result )\n",
    "    return 0;\n",
    "}\n",
    "```"
   ]
  },
  {
   "cell_type": "markdown",
   "metadata": {},
   "source": [
    "**[result]**\n",
    "1. 10\n",
    "\n",
    "2. 20"
   ]
  },
  {
   "cell_type": "markdown",
   "metadata": {},
   "source": [
    "**[예제6]**\n",
    "```c\n",
    "#include<stdio.h>\n",
    "\n",
    "int main(){\n",
    "    int x = 7;\n",
    "    int y = 14;\n",
    "    int z = 2;\n",
    "    int result;\n",
    "\n",
    "    //산술연산 먼저, 그 다음 관계연산자\n",
    "    result = x * y <= z + 100\n",
    "\n",
    "    printf(\"결과: %d\\n\", result);\n",
    "    \n",
    "    return 0;\n",
    "}\n",
    "```"
   ]
  },
  {
   "cell_type": "markdown",
   "metadata": {},
   "source": [
    "**[result]**\n",
    "\n",
    "\n",
    "1"
   ]
  },
  {
   "cell_type": "markdown",
   "metadata": {},
   "source": [
    "**[예제7]**\n",
    "```c\n",
    "#include<stdio.h>\n",
    "\n",
    "int main(){\n",
    "    int x = 5;\n",
    "    int y = 10;\n",
    "    int z = 15;\n",
    "    int result;\n",
    "\n",
    "    //산술연산 먼저, 그 다음 관계연산자(비교)\n",
    "    result = x + y > z;\n",
    "\n",
    "    printf(\"결과: %d\\n\", result);\n",
    "    \n",
    "    return 0;\n",
    "}\n",
    "```"
   ]
  },
  {
   "cell_type": "markdown",
   "metadata": {},
   "source": [
    "**[result]**\n",
    "\n",
    "\n",
    "0"
   ]
  },
  {
   "cell_type": "markdown",
   "metadata": {},
   "source": [
    "### 연산자 우선순위 요약"
   ]
  },
  {
   "cell_type": "markdown",
   "metadata": {},
   "source": [
    "1. 어차피 모든 연산자를 외우는 것은 불가능하다.\n",
    "\n",
    "2. 4가지 정도로 외우자. 포인터 > 곱셈 > 덧셈 > 비교\n",
    "\n",
    "3. 괄호는 가장 먼저 한다.\n",
    "\n",
    "4. 다 끝나고 대입(=)한다. 오른쪽에서 왼쪽으로 대입은 기본"
   ]
  }
 ],
 "metadata": {
  "language_info": {
   "name": "python"
  }
 },
 "nbformat": 4,
 "nbformat_minor": 2
}
